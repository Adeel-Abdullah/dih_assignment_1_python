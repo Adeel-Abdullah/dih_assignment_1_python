{
 "cells": [
  {
   "cell_type": "code",
   "execution_count": 2,
   "metadata": {
    "collapsed": false
   },
   "outputs": [
    {
     "ename": "SyntaxError",
     "evalue": "invalid syntax (<ipython-input-2-ab312357c411>, line 1)",
     "output_type": "error",
     "traceback": [
      "\u001b[0;36m  File \u001b[0;32m\"<ipython-input-2-ab312357c411>\"\u001b[0;36m, line \u001b[0;32m1\u001b[0m\n\u001b[0;31m    data_frame = /resources/data/chronic_kidney_disease_updated.csv\u001b[0m\n\u001b[0m                 ^\u001b[0m\n\u001b[0;31mSyntaxError\u001b[0m\u001b[0;31m:\u001b[0m invalid syntax\n"
     ]
    }
   ],
   "source": [
    "data_frame = /resources/data/chronic_kidney_disease_updated.csv\n"
   ]
  },
  {
   "cell_type": "markdown",
   "metadata": {},
   "source": [
    "# Question 1\n"
   ]
  },
  {
   "cell_type": "code",
   "execution_count": 23,
   "metadata": {
    "collapsed": false
   },
   "outputs": [
    {
     "data": {
      "text/html": [
       "<div>\n",
       "<table border=\"1\" class=\"dataframe\">\n",
       "  <thead>\n",
       "    <tr style=\"text-align: right;\">\n",
       "      <th></th>\n",
       "      <th>age</th>\n",
       "      <th>bp</th>\n",
       "      <th>sg</th>\n",
       "      <th>al</th>\n",
       "      <th>su</th>\n",
       "      <th>rbc</th>\n",
       "      <th>pc</th>\n",
       "      <th>pcc</th>\n",
       "      <th>ba</th>\n",
       "      <th>bgr</th>\n",
       "      <th>...</th>\n",
       "      <th>pcv</th>\n",
       "      <th>wbcc</th>\n",
       "      <th>rbcc</th>\n",
       "      <th>htn</th>\n",
       "      <th>dm</th>\n",
       "      <th>cad</th>\n",
       "      <th>appet</th>\n",
       "      <th>pe</th>\n",
       "      <th>ane</th>\n",
       "      <th>class</th>\n",
       "    </tr>\n",
       "  </thead>\n",
       "  <tbody>\n",
       "  </tbody>\n",
       "</table>\n",
       "<p>0 rows × 25 columns</p>\n",
       "</div>"
      ],
      "text/plain": [
       "Empty DataFrame\n",
       "Columns: [age, bp, sg, al, su, rbc, pc, pcc, ba, bgr, bu, sc, sod, pot, hemo, pcv, wbcc, rbcc, htn, dm, cad, appet, pe, ane, class]\n",
       "Index: []\n",
       "\n",
       "[0 rows x 25 columns]"
      ]
     },
     "execution_count": 23,
     "metadata": {},
     "output_type": "execute_result"
    }
   ],
   "source": [
    "import pandas as pd\n",
    "data_frame = pandas.read_csv('/resources/data/chronic_kidney_disease_updated.csv', sep =',', skipinitialspace=True )\n",
    "data_frame.head(0)"
   ]
  },
  {
   "cell_type": "markdown",
   "metadata": {},
   "source": [
    "# Question 2"
   ]
  },
  {
   "cell_type": "code",
   "execution_count": 12,
   "metadata": {
    "collapsed": false
   },
   "outputs": [
    {
     "data": {
      "text/html": [
       "<div>\n",
       "<table border=\"1\" class=\"dataframe\">\n",
       "  <thead>\n",
       "    <tr style=\"text-align: right;\">\n",
       "      <th></th>\n",
       "      <th>age</th>\n",
       "      <th>bp</th>\n",
       "      <th>sg</th>\n",
       "      <th>al</th>\n",
       "      <th>su</th>\n",
       "      <th>rbc</th>\n",
       "      <th>pc</th>\n",
       "      <th>pcc</th>\n",
       "      <th>ba</th>\n",
       "      <th>bgr</th>\n",
       "      <th>...</th>\n",
       "      <th>pcv</th>\n",
       "      <th>wbcc</th>\n",
       "      <th>rbcc</th>\n",
       "      <th>htn</th>\n",
       "      <th>dm</th>\n",
       "      <th>cad</th>\n",
       "      <th>appet</th>\n",
       "      <th>pe</th>\n",
       "      <th>ane</th>\n",
       "      <th>class</th>\n",
       "    </tr>\n",
       "  </thead>\n",
       "  <tbody>\n",
       "    <tr>\n",
       "      <th>0</th>\n",
       "      <td>NaN</td>\n",
       "      <td>NaN</td>\n",
       "      <td>NaN</td>\n",
       "      <td>NaN</td>\n",
       "      <td>NaN</td>\n",
       "      <td>NaN</td>\n",
       "      <td>NaN</td>\n",
       "      <td>NaN</td>\n",
       "      <td>NaN</td>\n",
       "      <td>NaN</td>\n",
       "      <td>...</td>\n",
       "      <td>NaN</td>\n",
       "      <td>NaN</td>\n",
       "      <td>NaN</td>\n",
       "      <td>NaN</td>\n",
       "      <td>NaN</td>\n",
       "      <td>NaN</td>\n",
       "      <td>NaN</td>\n",
       "      <td>NaN</td>\n",
       "      <td>NaN</td>\n",
       "      <td>NaN</td>\n",
       "    </tr>\n",
       "    <tr>\n",
       "      <th>1</th>\n",
       "      <td>48</td>\n",
       "      <td>80</td>\n",
       "      <td>1.020</td>\n",
       "      <td>1</td>\n",
       "      <td>0</td>\n",
       "      <td>?</td>\n",
       "      <td>normal</td>\n",
       "      <td>notpresent</td>\n",
       "      <td>notpresent</td>\n",
       "      <td>121</td>\n",
       "      <td>...</td>\n",
       "      <td>44</td>\n",
       "      <td>7800</td>\n",
       "      <td>5.2</td>\n",
       "      <td>yes</td>\n",
       "      <td>yes</td>\n",
       "      <td>no</td>\n",
       "      <td>good</td>\n",
       "      <td>no</td>\n",
       "      <td>no</td>\n",
       "      <td>ckd</td>\n",
       "    </tr>\n",
       "    <tr>\n",
       "      <th>2</th>\n",
       "      <td>7</td>\n",
       "      <td>50</td>\n",
       "      <td>1.020</td>\n",
       "      <td>4</td>\n",
       "      <td>0</td>\n",
       "      <td>?</td>\n",
       "      <td>normal</td>\n",
       "      <td>notpresent</td>\n",
       "      <td>notpresent</td>\n",
       "      <td>?</td>\n",
       "      <td>...</td>\n",
       "      <td>38</td>\n",
       "      <td>6000</td>\n",
       "      <td>?</td>\n",
       "      <td>no</td>\n",
       "      <td>no</td>\n",
       "      <td>no</td>\n",
       "      <td>good</td>\n",
       "      <td>no</td>\n",
       "      <td>no</td>\n",
       "      <td>ckd</td>\n",
       "    </tr>\n",
       "    <tr>\n",
       "      <th>3</th>\n",
       "      <td>62</td>\n",
       "      <td>80</td>\n",
       "      <td>1.010</td>\n",
       "      <td>2</td>\n",
       "      <td>3</td>\n",
       "      <td>normal</td>\n",
       "      <td>normal</td>\n",
       "      <td>notpresent</td>\n",
       "      <td>notpresent</td>\n",
       "      <td>423</td>\n",
       "      <td>...</td>\n",
       "      <td>31</td>\n",
       "      <td>7500</td>\n",
       "      <td>?</td>\n",
       "      <td>no</td>\n",
       "      <td>yes</td>\n",
       "      <td>no</td>\n",
       "      <td>poor</td>\n",
       "      <td>no</td>\n",
       "      <td>yes</td>\n",
       "      <td>ckd</td>\n",
       "    </tr>\n",
       "    <tr>\n",
       "      <th>4</th>\n",
       "      <td>48</td>\n",
       "      <td>70</td>\n",
       "      <td>1.005</td>\n",
       "      <td>4</td>\n",
       "      <td>0</td>\n",
       "      <td>normal</td>\n",
       "      <td>abnormal</td>\n",
       "      <td>present</td>\n",
       "      <td>notpresent</td>\n",
       "      <td>117</td>\n",
       "      <td>...</td>\n",
       "      <td>32</td>\n",
       "      <td>6700</td>\n",
       "      <td>3.9</td>\n",
       "      <td>yes</td>\n",
       "      <td>no</td>\n",
       "      <td>no</td>\n",
       "      <td>poor</td>\n",
       "      <td>yes</td>\n",
       "      <td>yes</td>\n",
       "      <td>ckd</td>\n",
       "    </tr>\n",
       "  </tbody>\n",
       "</table>\n",
       "<p>5 rows × 25 columns</p>\n",
       "</div>"
      ],
      "text/plain": [
       "   age   bp     sg   al   su     rbc        pc         pcc          ba  bgr  \\\n",
       "0  NaN  NaN    NaN  NaN  NaN     NaN       NaN         NaN         NaN  NaN   \n",
       "1   48   80  1.020    1    0       ?    normal  notpresent  notpresent  121   \n",
       "2    7   50  1.020    4    0       ?    normal  notpresent  notpresent    ?   \n",
       "3   62   80  1.010    2    3  normal    normal  notpresent  notpresent  423   \n",
       "4   48   70  1.005    4    0  normal  abnormal     present  notpresent  117   \n",
       "\n",
       "   ...   pcv  wbcc rbcc  htn   dm  cad appet   pe  ane class  \n",
       "0  ...   NaN   NaN  NaN  NaN  NaN  NaN   NaN  NaN  NaN   NaN  \n",
       "1  ...    44  7800  5.2  yes  yes   no  good   no   no   ckd  \n",
       "2  ...    38  6000    ?   no   no   no  good   no   no   ckd  \n",
       "3  ...    31  7500    ?   no  yes   no  poor   no  yes   ckd  \n",
       "4  ...    32  6700  3.9  yes   no   no  poor  yes  yes   ckd  \n",
       "\n",
       "[5 rows x 25 columns]"
      ]
     },
     "execution_count": 12,
     "metadata": {},
     "output_type": "execute_result"
    }
   ],
   "source": [
    "data_frame.head()"
   ]
  },
  {
   "cell_type": "markdown",
   "metadata": {},
   "source": [
    "# Question 3"
   ]
  },
  {
   "cell_type": "code",
   "execution_count": 38,
   "metadata": {
    "collapsed": false
   },
   "outputs": [
    {
     "data": {
      "text/plain": [
       "array([nan, 'yes', 'no', '\\tno', '\\tyes', '?'], dtype=object)"
      ]
     },
     "execution_count": 38,
     "metadata": {},
     "output_type": "execute_result"
    }
   ],
   "source": [
    "\n",
    "data_frame.dm.unique()\n",
    "#printing types of values in 'dm'\n"
   ]
  },
  {
   "cell_type": "code",
   "execution_count": 106,
   "metadata": {
    "collapsed": false
   },
   "outputs": [
    {
     "name": "stdout",
     "output_type": "stream",
     "text": [
      "[nan 'yes' 'no']\n"
     ]
    }
   ],
   "source": [
    "import numpy as np\n",
    "def clean_dm_col(dataFrame):\n",
    "    clean =  dataFrame.dm.replace(r'[\\t\\s]', \"\", regex=True)\n",
    "    clean = clean.replace('?', np.nan) \n",
    "    print clean.unique()     \n",
    "data_frames = clean_dm_col(data_frame)\n",
    "#printing values of 'dm' after cleaning"
   ]
  },
  {
   "cell_type": "markdown",
   "metadata": {},
   "source": [
    "# Question 4"
   ]
  },
  {
   "cell_type": "code",
   "execution_count": 110,
   "metadata": {
    "collapsed": false
   },
   "outputs": [
    {
     "name": "stdout",
     "output_type": "stream",
     "text": [
      "      age     bp     sg   al   su       rbc        pc         pcc          ba  \\\n",
      "0     NaN    NaN    NaN  NaN  NaN       NaN       NaN         NaN         NaN   \n",
      "1    48.0   80.0  1.020    1    0       NaN    normal  notpresent  notpresent   \n",
      "2     7.0   50.0  1.020    4    0       NaN    normal  notpresent  notpresent   \n",
      "3    62.0   80.0  1.010    2    3    normal    normal  notpresent  notpresent   \n",
      "4    48.0   70.0  1.005    4    0    normal  abnormal     present  notpresent   \n",
      "5    51.0   80.0  1.010    2    0    normal    normal  notpresent  notpresent   \n",
      "6    60.0   90.0  1.015    3    0       NaN       NaN  notpresent  notpresent   \n",
      "7    68.0   70.0  1.010    0    0       NaN    normal  notpresent  notpresent   \n",
      "8    24.0    NaN  1.015    2    4    normal  abnormal  notpresent  notpresent   \n",
      "9    52.0  100.0  1.015    3    0    normal  abnormal     present  notpresent   \n",
      "10   53.0   90.0  1.020    2    0  abnormal  abnormal     present  notpresent   \n",
      "11   50.0   60.0  1.010    2    4       NaN  abnormal     present  notpresent   \n",
      "12   63.0   70.0  1.010    3    0  abnormal  abnormal     present  notpresent   \n",
      "13   68.0   70.0  1.015    3    1       NaN    normal     present  notpresent   \n",
      "14   68.0   70.0    NaN  NaN  NaN       NaN       NaN  notpresent  notpresent   \n",
      "15   68.0   80.0  1.010    3    2    normal  abnormal     present     present   \n",
      "16   40.0   80.0  1.015    3    0       NaN    normal  notpresent  notpresent   \n",
      "17   47.0   70.0  1.015    2    0       NaN    normal  notpresent  notpresent   \n",
      "18   47.0   80.0    NaN  NaN  NaN       NaN       NaN  notpresent  notpresent   \n",
      "19   60.0  100.0  1.025    0    3       NaN    normal  notpresent  notpresent   \n",
      "20   62.0   60.0  1.015    1    0       NaN  abnormal     present  notpresent   \n",
      "21   61.0   80.0  1.015    2    0  abnormal  abnormal  notpresent  notpresent   \n",
      "22   60.0   90.0    NaN  NaN  NaN       NaN       NaN  notpresent  notpresent   \n",
      "23   48.0   80.0  1.025    4    0    normal  abnormal  notpresent  notpresent   \n",
      "24   21.0   70.0  1.010    0    0       NaN    normal  notpresent  notpresent   \n",
      "25   42.0  100.0  1.015    4    0    normal  abnormal  notpresent     present   \n",
      "26   61.0   60.0  1.025    0    0       NaN    normal  notpresent  notpresent   \n",
      "27   75.0   80.0  1.015    0    0       NaN    normal  notpresent  notpresent   \n",
      "28   69.0   70.0  1.010    3    4    normal  abnormal  notpresent  notpresent   \n",
      "29   75.0   70.0    NaN    1    3       NaN       NaN  notpresent  notpresent   \n",
      "..    ...    ...    ...  ...  ...       ...       ...         ...         ...   \n",
      "371  69.0   70.0  1.020    0    0    normal    normal  notpresent  notpresent   \n",
      "372  28.0   60.0  1.025    0    0    normal    normal  notpresent  notpresent   \n",
      "373  72.0   60.0  1.020    0    0    normal    normal  notpresent  notpresent   \n",
      "374  61.0   70.0  1.025    0    0    normal    normal  notpresent  notpresent   \n",
      "375  79.0   80.0  1.025    0    0    normal    normal  notpresent  notpresent   \n",
      "376  70.0   80.0  1.020    0    0    normal    normal  notpresent  notpresent   \n",
      "377  58.0   70.0  1.025    0    0    normal    normal  notpresent  notpresent   \n",
      "378  64.0   70.0  1.020    0    0    normal    normal  notpresent  notpresent   \n",
      "379  71.0   60.0  1.025    0    0    normal    normal  notpresent  notpresent   \n",
      "380  62.0   80.0  1.025    0    0    normal    normal  notpresent  notpresent   \n",
      "381  59.0   60.0  1.020    0    0    normal    normal  notpresent  notpresent   \n",
      "382  71.0   70.0  1.025    0    0       NaN       NaN  notpresent  notpresent   \n",
      "383  48.0   80.0  1.025    0    0    normal    normal  notpresent  notpresent   \n",
      "384  80.0   80.0  1.025    0    0    normal    normal  notpresent  notpresent   \n",
      "385  57.0   60.0  1.020    0    0    normal    normal  notpresent  notpresent   \n",
      "386  63.0   70.0  1.020    0    0    normal    normal  notpresent  notpresent   \n",
      "387  46.0   70.0  1.025    0    0    normal    normal  notpresent  notpresent   \n",
      "388  15.0   80.0  1.025    0    0    normal    normal  notpresent  notpresent   \n",
      "389  51.0   80.0  1.020    0    0    normal    normal  notpresent  notpresent   \n",
      "390  41.0   80.0  1.025    0    0    normal    normal  notpresent  notpresent   \n",
      "391  52.0   80.0  1.025    0    0    normal    normal  notpresent  notpresent   \n",
      "392  36.0   80.0  1.025    0    0    normal    normal  notpresent  notpresent   \n",
      "393  57.0   80.0  1.020    0    0    normal    normal  notpresent  notpresent   \n",
      "394  43.0   60.0  1.025    0    0    normal    normal  notpresent  notpresent   \n",
      "395  50.0   80.0  1.020    0    0    normal    normal  notpresent  notpresent   \n",
      "396  55.0   80.0  1.020    0    0    normal    normal  notpresent  notpresent   \n",
      "397  42.0   70.0  1.025    0    0    normal    normal  notpresent  notpresent   \n",
      "398  12.0   80.0  1.020    0    0    normal    normal  notpresent  notpresent   \n",
      "399  17.0   60.0  1.025    0    0    normal    normal  notpresent  notpresent   \n",
      "400  58.0   80.0  1.025    0    0    normal    normal  notpresent  notpresent   \n",
      "\n",
      "       bgr   ...     pcv     wbcc  rbcc  htn   dm  cad  appet   pe  ane  \\\n",
      "0      NaN   ...     NaN      NaN   NaN  NaN  NaN  NaN    NaN  NaN  NaN   \n",
      "1    121.0   ...    44.0   7800.0   5.2  yes  yes   no   good   no   no   \n",
      "2      NaN   ...    38.0   6000.0   NaN   no   no   no   good   no   no   \n",
      "3    423.0   ...    31.0   7500.0   NaN   no  yes   no   poor   no  yes   \n",
      "4    117.0   ...    32.0   6700.0   3.9  yes   no   no   poor  yes  yes   \n",
      "5    106.0   ...    35.0   7300.0   4.6   no   no   no   good   no   no   \n",
      "6     74.0   ...    39.0   7800.0   4.4  yes  yes   no   good  yes   no   \n",
      "7    100.0   ...    36.0      NaN   NaN   no   no   no   good   no   no   \n",
      "8    410.0   ...    44.0   6900.0   5.0   no  yes   no   good  yes   no   \n",
      "9    138.0   ...    33.0   9600.0   4.0  yes  yes   no   good   no  yes   \n",
      "10    70.0   ...    29.0  12100.0   3.7  yes  yes   no   poor   no  yes   \n",
      "11   490.0   ...    28.0      NaN   NaN  yes  yes   no   good   no  yes   \n",
      "12   380.0   ...    32.0   4500.0   3.8  yes  yes   no   poor  yes   no   \n",
      "13   208.0   ...    28.0  12200.0   3.4  yes  yes  yes   poor  yes   no   \n",
      "14    98.0   ...     NaN      NaN   NaN  yes  yes  yes   poor  yes   no   \n",
      "15   157.0   ...    16.0  11000.0   2.6  yes  yes  yes   poor  yes   no   \n",
      "16    76.0   ...    24.0   3800.0   2.8  yes   no   no   good   no  yes   \n",
      "17    99.0   ...     NaN      NaN   NaN   no   no   no   good   no   no   \n",
      "18   114.0   ...     NaN      NaN   NaN  yes   no   no   poor   no   no   \n",
      "19   263.0   ...    37.0  11400.0   4.3  yes  yes  yes   good   no   no   \n",
      "20   100.0   ...    30.0   5300.0   3.7  yes   no  yes   good   no   no   \n",
      "21   173.0   ...    24.0   9200.0   3.2  yes  yes  yes   poor  yes  yes   \n",
      "22     NaN   ...    32.0   6200.0   3.6  yes  yes  yes   good   no   no   \n",
      "23    95.0   ...    32.0   6900.0   3.4  yes   no   no   good   no  yes   \n",
      "24     NaN   ...     NaN      NaN   NaN   no   no   no   poor   no  yes   \n",
      "25     NaN   ...    39.0   8300.0   4.6  yes   no   no   poor   no   no   \n",
      "26   108.0   ...    29.0   8400.0   3.7  yes  yes   no   good   no  yes   \n",
      "27   156.0   ...    35.0  10300.0   4.0  yes  yes   no   poor   no   no   \n",
      "28   264.0   ...    37.0   9600.0   4.1  yes  yes  yes   good  yes   no   \n",
      "29   123.0   ...     NaN      NaN   NaN   no  yes   no   good   no   no   \n",
      "..     ...   ...     ...      ...   ...  ...  ...  ...    ...  ...  ...   \n",
      "371   83.0   ...    50.0   9300.0   5.4   no   no   no   good   no   no   \n",
      "372   79.0   ...    51.0   6500.0   5.0   no   no   no   good   no   no   \n",
      "373  109.0   ...    52.0  10500.0   5.5   no   no   no   good   no   no   \n",
      "374  133.0   ...    47.0   9200.0   4.9   no   no   no   good   no   no   \n",
      "375  111.0   ...    40.0   8000.0   6.4   no   no   no   good   no   no   \n",
      "376   74.0   ...    48.0   9700.0   5.6   no   no   no   good   no   no   \n",
      "377   88.0   ...    53.0   9100.0   5.2   no   no   no   good   no   no   \n",
      "378   97.0   ...    49.0   6400.0   4.8   no   no   no   good   no   no   \n",
      "379    NaN   ...    42.0   7700.0   5.5   no   no   no   good   no   no   \n",
      "380   78.0   ...    50.0   5400.0   5.7   no   no   no   good   no   no   \n",
      "381  113.0   ...    54.0   6500.0   4.9   no   no   no   good   no   no   \n",
      "382   79.0   ...    40.0   5800.0   5.9   no   no   no   good   no   no   \n",
      "383   75.0   ...    51.0   6000.0   6.5   no   no   no   good   no   no   \n",
      "384  119.0   ...    49.0   5100.0   5.0   no   no   no   good   no   no   \n",
      "385  132.0   ...    42.0  11000.0   4.5   no   no   no   good   no   no   \n",
      "386  113.0   ...    52.0   8000.0   5.1   no   no   no   good   no   no   \n",
      "387  100.0   ...    43.0   5700.0   6.5   no   no   no   good   no   no   \n",
      "388   93.0   ...    50.0   6200.0   5.2   no   no   no   good   no   no   \n",
      "389   94.0   ...    46.0   9500.0   6.4   no   no   no   good   no   no   \n",
      "390  112.0   ...    52.0   7200.0   5.8   no   no   no   good   no   no   \n",
      "391   99.0   ...    52.0   6300.0   5.3   no   no   no   good   no   no   \n",
      "392   85.0   ...    44.0   5800.0   6.3   no   no   no   good   no   no   \n",
      "393  133.0   ...    46.0   6600.0   5.5   no   no   no   good   no   no   \n",
      "394  117.0   ...    54.0   7400.0   5.4   no   no   no   good   no   no   \n",
      "395  137.0   ...    45.0   9500.0   4.6   no   no   no   good   no   no   \n",
      "396  140.0   ...    47.0   6700.0   4.9   no   no   no   good   no   no   \n",
      "397   75.0   ...    54.0   7800.0   6.2   no   no   no   good   no   no   \n",
      "398  100.0   ...    49.0   6600.0   5.4   no   no   no   good   no   no   \n",
      "399  114.0   ...    51.0   7200.0   5.9   no   no   no   good   no   no   \n",
      "400  131.0   ...    53.0   6800.0   6.1   no   no   no   good   no   no   \n",
      "\n",
      "      class  \n",
      "0       NaN  \n",
      "1       ckd  \n",
      "2       ckd  \n",
      "3       ckd  \n",
      "4       ckd  \n",
      "5       ckd  \n",
      "6       ckd  \n",
      "7       ckd  \n",
      "8       ckd  \n",
      "9       ckd  \n",
      "10      ckd  \n",
      "11      ckd  \n",
      "12      ckd  \n",
      "13      ckd  \n",
      "14      ckd  \n",
      "15      ckd  \n",
      "16      ckd  \n",
      "17      ckd  \n",
      "18      ckd  \n",
      "19      ckd  \n",
      "20      ckd  \n",
      "21      ckd  \n",
      "22      ckd  \n",
      "23      ckd  \n",
      "24      ckd  \n",
      "25      ckd  \n",
      "26      ckd  \n",
      "27      ckd  \n",
      "28      ckd  \n",
      "29      ckd  \n",
      "..      ...  \n",
      "371  notckd  \n",
      "372  notckd  \n",
      "373  notckd  \n",
      "374  notckd  \n",
      "375  notckd  \n",
      "376  notckd  \n",
      "377  notckd  \n",
      "378  notckd  \n",
      "379  notckd  \n",
      "380  notckd  \n",
      "381  notckd  \n",
      "382  notckd  \n",
      "383  notckd  \n",
      "384  notckd  \n",
      "385  notckd  \n",
      "386  notckd  \n",
      "387  notckd  \n",
      "388  notckd  \n",
      "389  notckd  \n",
      "390  notckd  \n",
      "391  notckd  \n",
      "392  notckd  \n",
      "393  notckd  \n",
      "394  notckd  \n",
      "395  notckd  \n",
      "396  notckd  \n",
      "397  notckd  \n",
      "398  notckd  \n",
      "399  notckd  \n",
      "400  notckd  \n",
      "\n",
      "[401 rows x 25 columns]\n"
     ]
    }
   ],
   "source": [
    "def clean_data_frame(data):\n",
    "    #cleaning complete data \n",
    "    return data.replace(r'[\\t\\s]', \"\", regex=True).replace('?', np.nan)\n",
    "data_frame = clean_data_frame(data_frame)\n",
    "print data_frame"
   ]
  },
  {
   "cell_type": "markdown",
   "metadata": {},
   "source": [
    "# Question 5"
   ]
  },
  {
   "cell_type": "code",
   "execution_count": 79,
   "metadata": {
    "collapsed": false
   },
   "outputs": [
    {
     "name": "stdout",
     "output_type": "stream",
     "text": [
      "float64\n"
     ]
    }
   ],
   "source": [
    "import pandas as pd\n",
    "columns = ['age', 'bp','bgr','bu','sc', 'sod', 'pot', 'hemo', 'pcv', 'wbcc', 'rbcc' ]\n",
    "for colm in columns:\n",
    "    data_frame[colm] = pd.to_numeric(data_frame[colm], errors = 'coerce')\n",
    "print data_frame['age'].dtype"
   ]
  },
  {
   "cell_type": "markdown",
   "metadata": {},
   "source": [
    "# Question 6"
   ]
  },
  {
   "cell_type": "code",
   "execution_count": 116,
   "metadata": {
    "collapsed": false
   },
   "outputs": [
    {
     "name": "stdout",
     "output_type": "stream",
     "text": [
      "normal      60\n",
      "abnormal    47\n",
      "Name: rbc, dtype: int64\n"
     ]
    },
    {
     "data": {
      "image/png": "[encoded data removed]",
      "text/plain": [
       "<matplotlib.figure.Figure at 0x7f21a3244050>"
      ]
     },
     "metadata": {},
     "output_type": "display_data"
    }
   ],
   "source": [
    "import matplotlib.pyplot as plt\n",
    "% matplotlib inline\n",
    "a = data_frame.loc[data_frame['class'] == 'ckd' , \"rbc\"]\n",
    "counts = a.value_counts()\n",
    "counts.plot(kind='bar')\n",
    "print counts"
   ]
  },
  {
   "cell_type": "markdown",
   "metadata": {},
   "source": [
    "# Question 7\n",
    "\n"
   ]
  },
  {
   "cell_type": "code",
   "execution_count": 120,
   "metadata": {
    "collapsed": false
   },
   "outputs": [
    {
     "name": "stdout",
     "output_type": "stream",
     "text": [
      "180.0\n"
     ]
    }
   ],
   "source": [
    "print max(data_frame.loc[data_frame['class'] == 'ckd' , \"bp\"])"
   ]
  },
  {
   "cell_type": "markdown",
   "metadata": {},
   "source": [
    "# Question 8"
   ]
  },
  {
   "cell_type": "code",
   "execution_count": 121,
   "metadata": {
    "collapsed": true
   },
   "outputs": [],
   "source": [
    "data_frame.to_csv(\"clean_chronic_kidney_disease.csv\",sep =\",\")"
   ]
  }
 ],
 "metadata": {
  "kernelspec": {
   "display_name": "Python 2",
   "language": "python",
   "name": "python2"
  },
  "language_info": {
   "codemirror_mode": {
    "name": "ipython",
    "version": 2
   },
   "file_extension": ".py",
   "mimetype": "text/x-python",
   "name": "python",
   "nbconvert_exporter": "python",
   "pygments_lexer": "ipython2",
   "version": "2.7.12"
  },
  "widgets": {
   "state": {},
   "version": "1.1.2"
  }
 },
 "nbformat": 4,
 "nbformat_minor": 0
}
