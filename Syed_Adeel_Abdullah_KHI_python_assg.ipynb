{
 "cells": [
  {
   "cell_type": "markdown",
   "metadata": {},
   "source": [
    "# Python Assignment by Syed Adeel Abdullah"
   ]
  },
  {
   "cell_type": "code",
   "execution_count": 40,
   "metadata": {
    "collapsed": true
   },
   "outputs": [],
   "source": [
    "import pandas\n",
    "import numpy as np\n",
    "import matplotlib.pyplot as plt\n",
    "\n",
    "plt.style.use('ggplot')"
   ]
  },
  {
   "cell_type": "markdown",
   "metadata": {},
   "source": [
    "read the csv file "
   ]
  },
  {
   "cell_type": "code",
   "execution_count": 41,
   "metadata": {
    "collapsed": true
   },
   "outputs": [],
   "source": [
    "df=pandas.read_csv(\"E:/DIH/python assg1 dataset/Updated Dataset/Dataset/chronic_kidney_disease_updated.csv\")"
   ]
  },
  {
   "cell_type": "markdown",
   "metadata": {},
   "source": [
    "print column names."
   ]
  },
  {
   "cell_type": "code",
   "execution_count": 42,
   "metadata": {
    "collapsed": false
   },
   "outputs": [
    {
     "name": "stdout",
     "output_type": "stream",
     "text": [
      "['age', 'bp', 'sg', 'al', 'su', 'rbc', 'pc', 'pcc', 'ba', 'bgr', 'bu', 'sc', 'sod', 'pot', 'hemo', 'pcv', 'wbcc', 'rbcc', 'htn', 'dm', 'cad', 'appet', 'pe', 'ane', 'class']\n"
     ]
    }
   ],
   "source": [
    "print(list(df) )"
   ]
  },
  {
   "cell_type": "markdown",
   "metadata": {},
   "source": [
    "Display first 5 rows in the dataset."
   ]
  },
  {
   "cell_type": "code",
   "execution_count": 43,
   "metadata": {
    "collapsed": false
   },
   "outputs": [
    {
     "name": "stdout",
     "output_type": "stream",
     "text": [
      "   age   bp     sg   al   su     rbc        pc         pcc          ba  bgr  \\\n",
      "0  NaN  NaN    NaN  NaN  NaN     NaN       NaN         NaN         NaN  NaN   \n",
      "1   48   80  1.020    1    0       ?    normal  notpresent  notpresent  121   \n",
      "2    7   50  1.020    4    0       ?    normal  notpresent  notpresent    ?   \n",
      "3   62   80  1.010    2    3  normal    normal  notpresent  notpresent  423   \n",
      "4   48   70  1.005    4    0  normal  abnormal     present  notpresent  117   \n",
      "\n",
      "   ...   pcv  wbcc rbcc  htn   dm  cad appet   pe  ane class  \n",
      "0  ...   NaN   NaN  NaN  NaN  NaN  NaN   NaN  NaN  NaN   NaN  \n",
      "1  ...    44  7800  5.2  yes  yes   no  good   no   no   ckd  \n",
      "2  ...    38  6000    ?   no   no   no  good   no   no   ckd  \n",
      "3  ...    31  7500    ?   no  yes   no  poor   no  yes   ckd  \n",
      "4  ...    32  6700  3.9  yes   no   no  poor  yes  yes   ckd  \n",
      "\n",
      "[5 rows x 25 columns]\n"
     ]
    }
   ],
   "source": [
    "print(df.head())"
   ]
  },
  {
   "cell_type": "markdown",
   "metadata": {},
   "source": [
    "Check Diabetes Mellitus(dm) variable and print what type of values it has."
   ]
  },
  {
   "cell_type": "code",
   "execution_count": 44,
   "metadata": {
    "collapsed": false
   },
   "outputs": [
    {
     "name": "stdout",
     "output_type": "stream",
     "text": [
      "[nan 'yes' 'no' ' yes' '\\tno' '\\tyes' '?']\n"
     ]
    }
   ],
   "source": [
    "print(df.dm.unique() )"
   ]
  },
  {
   "cell_type": "markdown",
   "metadata": {},
   "source": [
    "The dataset is not in clean form. Write a function that takes pandas dataframe as an input, remove these characters i-e \n",
    "( \"\\t\", \" \") from the string value and replace with \"nan\" if the string value has only unicode characters i-e (\"?\"). The function should apply this transformation to all columns in dataframe and for cross check display unique values of Diabetes Mellitus(dm)."
   ]
  },
  {
   "cell_type": "code",
   "execution_count": 45,
   "metadata": {
    "collapsed": true
   },
   "outputs": [],
   "source": [
    "def replace(tup, df):\n",
    "    for i in tup:\n",
    "        df.replace(to_replace=i, value=np.nan, inplace=True)\n",
    "        \n",
    "def cleandf(df):\n",
    "   df=df.applymap(lambda x: str(x).strip())\n",
    "   return df\n",
    "    \n",
    "df=cleandf(df)\n",
    "    \n",
    "replace(( \"\\t\", \" \", \"?\"), df)"
   ]
  },
  {
   "cell_type": "code",
   "execution_count": 46,
   "metadata": {
    "collapsed": false
   },
   "outputs": [
    {
     "name": "stdout",
     "output_type": "stream",
     "text": [
      "['nan' 'yes' 'no' nan]\n"
     ]
    }
   ],
   "source": [
    "print(df.dm.unique() )"
   ]
  },
  {
   "cell_type": "markdown",
   "metadata": {},
   "source": [
    "Change datatype to Numerical of following columns in Dataframe. columns = ['age', 'bp', 'bgr', 'bu', 'sc', 'sod', 'pot', 'hemo', 'pcv', 'wbcc', 'rbcc']"
   ]
  },
  {
   "cell_type": "code",
   "execution_count": 47,
   "metadata": {
    "collapsed": true
   },
   "outputs": [],
   "source": [
    "numeric_columns= ['age', 'bp', 'bgr', 'bu', 'sc', 'sod', 'pot', 'hemo', 'pcv', 'wbcc', 'rbcc']\n",
    "for i in numeric_columns:\n",
    "   df[i] = pandas.to_numeric(df[i], errors='coerce')"
   ]
  },
  {
   "cell_type": "code",
   "execution_count": 48,
   "metadata": {
    "collapsed": false
   },
   "outputs": [
    {
     "name": "stdout",
     "output_type": "stream",
     "text": [
      "           pc   al\n",
      "0         nan  nan\n",
      "1      normal    1\n",
      "2      normal    4\n",
      "3      normal    2\n",
      "4    abnormal    4\n",
      "5      normal    2\n",
      "6         NaN    3\n",
      "7      normal    0\n",
      "8    abnormal    2\n",
      "9    abnormal    3\n",
      "10   abnormal    2\n",
      "11   abnormal    2\n",
      "12   abnormal    3\n",
      "13     normal    3\n",
      "14        NaN  NaN\n",
      "15   abnormal    3\n",
      "16     normal    3\n",
      "17     normal    2\n",
      "18        NaN  NaN\n",
      "19     normal    0\n",
      "20   abnormal    1\n",
      "21   abnormal    2\n",
      "22        NaN  NaN\n",
      "23   abnormal    4\n",
      "24     normal    0\n",
      "25   abnormal    4\n",
      "26     normal    0\n",
      "27     normal    0\n",
      "28   abnormal    3\n",
      "29        NaN    1\n",
      "..        ...  ...\n",
      "371    normal    0\n",
      "372    normal    0\n",
      "373    normal    0\n",
      "374    normal    0\n",
      "375    normal    0\n",
      "376    normal    0\n",
      "377    normal    0\n",
      "378    normal    0\n",
      "379    normal    0\n",
      "380    normal    0\n",
      "381    normal    0\n",
      "382       NaN    0\n",
      "383    normal    0\n",
      "384    normal    0\n",
      "385    normal    0\n",
      "386    normal    0\n",
      "387    normal    0\n",
      "388    normal    0\n",
      "389    normal    0\n",
      "390    normal    0\n",
      "391    normal    0\n",
      "392    normal    0\n",
      "393    normal    0\n",
      "394    normal    0\n",
      "395    normal    0\n",
      "396    normal    0\n",
      "397    normal    0\n",
      "398    normal    0\n",
      "399    normal    0\n",
      "400    normal    0\n",
      "\n",
      "[401 rows x 2 columns]\n"
     ]
    }
   ],
   "source": [
    "print(df[['pc','al']])"
   ]
  },
  {
   "cell_type": "markdown",
   "metadata": {},
   "source": [
    "Count the number of normal or abnormal red blood cells people having Chronic Kidney Disease(CKD)."
   ]
  },
  {
   "cell_type": "code",
   "execution_count": 49,
   "metadata": {
    "collapsed": false
   },
   "outputs": [
    {
     "name": "stdout",
     "output_type": "stream",
     "text": [
      "60\n",
      "47\n"
     ]
    }
   ],
   "source": [
    "df.rename(columns={'class': 'Class'}, inplace=True)\n",
    "ckd=df[df.Class=='ckd']\n",
    "\n",
    "print((len(ckd[ckd.rbc=='normal'].index)))\n",
    "print((len(ckd[ckd.rbc=='abnormal'].index)))"
   ]
  },
  {
   "cell_type": "code",
   "execution_count": 50,
   "metadata": {
    "collapsed": false
   },
   "outputs": [
    {
     "data": {
      "image/png": "[encoded data removed]",
      "text/plain": [
       "<matplotlib.figure.Figure at 0x1ebe5eb7780>"
      ]
     },
     "metadata": {},
     "output_type": "display_data"
    }
   ],
   "source": [
    "ckd['rbc'].value_counts().plot(kind='bar')\n",
    "\n",
    "plt.show()"
   ]
  },
  {
   "cell_type": "markdown",
   "metadata": {},
   "source": [
    "Display maximum blood pressure having Chronic Kidney Disease(CKD)."
   ]
  },
  {
   "cell_type": "code",
   "execution_count": 51,
   "metadata": {
    "collapsed": false
   },
   "outputs": [
    {
     "name": "stdout",
     "output_type": "stream",
     "text": [
      "180.0\n"
     ]
    }
   ],
   "source": [
    "print(ckd['bp'].max())"
   ]
  },
  {
   "cell_type": "markdown",
   "metadata": {},
   "source": [
    "Create a csv file of cleaned data in dataframe with name \"clean_chronic_kidney_disease.csv\""
   ]
  },
  {
   "cell_type": "code",
   "execution_count": null,
   "metadata": {
    "collapsed": true
   },
   "outputs": [],
   "source": [
    "df.to_csv(path_or_buf=\"E:/DIH/python assg1 dataset/Updated Dataset/Dataset/clean_chronic_kidney_disease.csv\")"
   ]
  }
 ],
 "metadata": {
  "anaconda-cloud": {},
  "kernelspec": {
   "display_name": "Python [conda env:Abdullah]",
   "language": "python",
   "name": "conda-env-Abdullah-py"
  },
  "language_info": {
   "codemirror_mode": {
    "name": "ipython",
    "version": 3
   },
   "file_extension": ".py",
   "mimetype": "text/x-python",
   "name": "python",
   "nbconvert_exporter": "python",
   "pygments_lexer": "ipython3",
   "version": "3.5.3"
  }
 },
 "nbformat": 4,
 "nbformat_minor": 1
}
