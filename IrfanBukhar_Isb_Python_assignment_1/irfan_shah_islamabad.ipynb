{
 "cells": [
  {
   "cell_type": "code",
   "execution_count": 2,
   "metadata": {
    "collapsed": false
   },
   "outputs": [],
   "source": [
    "import pandas as pd\n",
    "df = pd.read_csv(\"/resources/data/chronic_kidney_disease_updated.csv\")"
   ]
  },
  {
   "cell_type": "markdown",
   "metadata": {},
   "source": [
    "# Question 1"
   ]
  },
  {
   "cell_type": "code",
   "execution_count": 3,
   "metadata": {
    "collapsed": false
   },
   "outputs": [
    {
     "name": "stdout",
     "output_type": "stream",
     "text": [
      "Answer to Question 1 is as follows:\n",
      "['age', 'bp', 'sg', 'al', 'su', 'rbc', 'pc', 'pcc', 'ba', 'bgr', 'bu', 'sc', 'sod', 'pot', 'hemo', 'pcv', 'wbcc', 'rbcc', 'htn', 'dm', 'cad', 'appet', 'pe', 'ane', 'class']\n"
     ]
    }
   ],
   "source": [
    "print \"Answer to Question 1 is as follows:\"\n",
    "def answer_to_question1(dataframe):\n",
    "    print list(dataframe)\n",
    "    # or \n",
    "    #print list(dataframe.columns.values)\n",
    "\n",
    "answer_to_question1(df)"
   ]
  },
  {
   "cell_type": "markdown",
   "metadata": {},
   "source": [
    "# Question 2"
   ]
  },
  {
   "cell_type": "code",
   "execution_count": 4,
   "metadata": {
    "collapsed": false
   },
   "outputs": [
    {
     "name": "stdout",
     "output_type": "stream",
     "text": [
      "Answer to Question 2 is\n",
      "   age   bp     sg   al   su     rbc        pc         pcc          ba  bgr  \\\n",
      "0  NaN  NaN    NaN  NaN  NaN     NaN       NaN         NaN         NaN  NaN   \n",
      "1   48   80  1.020    1    0       ?    normal  notpresent  notpresent  121   \n",
      "2    7   50  1.020    4    0       ?    normal  notpresent  notpresent    ?   \n",
      "3   62   80  1.010    2    3  normal    normal  notpresent  notpresent  423   \n",
      "4   48   70  1.005    4    0  normal  abnormal     present  notpresent  117   \n",
      "5   51   80  1.010    2    0  normal    normal  notpresent  notpresent  106   \n",
      "\n",
      "   ...   pcv  wbcc rbcc  htn   dm  cad appet   pe  ane class  \n",
      "0  ...   NaN   NaN  NaN  NaN  NaN  NaN   NaN  NaN  NaN   NaN  \n",
      "1  ...    44  7800  5.2  yes  yes   no  good   no   no   ckd  \n",
      "2  ...    38  6000    ?   no   no   no  good   no   no   ckd  \n",
      "3  ...    31  7500    ?   no  yes   no  poor   no  yes   ckd  \n",
      "4  ...    32  6700  3.9  yes   no   no  poor  yes  yes   ckd  \n",
      "5  ...    35  7300  4.6   no   no   no  good   no   no   ckd  \n",
      "\n",
      "[6 rows x 25 columns]\n"
     ]
    }
   ],
   "source": [
    "print \"Answer to Question 2 is\"\n",
    "def answer_to_question2(dataframe):\n",
    "    print dataframe[0:6]\n",
    "\n",
    "answer_to_question2(df)"
   ]
  },
  {
   "cell_type": "markdown",
   "metadata": {},
   "source": [
    "# Question 3"
   ]
  },
  {
   "cell_type": "code",
   "execution_count": 5,
   "metadata": {
    "collapsed": false
   },
   "outputs": [
    {
     "name": "stdout",
     "output_type": "stream",
     "text": [
      "Answer to Question 3 is as follows:\n",
      "[nan 'yes' 'no' ' yes' '\\tno' '\\tyes' '?']\n"
     ]
    }
   ],
   "source": [
    "print \"Answer to Question 3 is as follows:\"\n",
    "def answer_to_question3(df):\n",
    "    print df.dm.unique()\n",
    "\n",
    "answer_to_question3(df)"
   ]
  },
  {
   "cell_type": "markdown",
   "metadata": {},
   "source": [
    "# Question 4"
   ]
  },
  {
   "cell_type": "code",
   "execution_count": 6,
   "metadata": {
    "collapsed": false
   },
   "outputs": [
    {
     "name": "stdout",
     "output_type": "stream",
     "text": [
      "Answer to Question 4 is as follows:\n",
      "[nan 'yes' 'no']\n"
     ]
    }
   ],
   "source": [
    "print \"Answer to Question 4 is as follows:\"\n",
    "import numpy as np\n",
    "\n",
    "# instead of just cleaning the dm column, lets just clean the whole dataframe\n",
    "def answer_to_question4(df):\n",
    "    # replacing the tabs and spaces with '' and ? with nan\n",
    "    df = df.replace(r'[\\t\\s]', '', regex=True).replace(\"?\",np.nan)\n",
    "    # printing the unique values\n",
    "    print df.dm.unique()\n",
    "    \n",
    "answer_to_question4(df)"
   ]
  },
  {
   "cell_type": "markdown",
   "metadata": {},
   "source": [
    "# Question 5 "
   ]
  },
  {
   "cell_type": "code",
   "execution_count": 7,
   "metadata": {
    "collapsed": false,
    "scrolled": true
   },
   "outputs": [
    {
     "name": "stdout",
     "output_type": "stream",
     "text": [
      "Answer to Quesstion 5 is as follows:\n",
      "Data type of the value age is: float64\n",
      "Data type of the value bp is: float64\n",
      "Data type of the value bgr is: float64\n",
      "Data type of the value bu is: float64\n",
      "Data type of the value sc is: float64\n",
      "Data type of the value sod is: float64\n",
      "Data type of the value pot is: float64\n",
      "Data type of the value hemo is: float64\n",
      "Data type of the value pcv is: float64\n",
      "Data type of the value wbcc is: float64\n",
      "Data type of the value rbcc is: float64\n"
     ]
    }
   ],
   "source": [
    "print \"Answer to Quesstion 5 is as follows:\"\n",
    "def answer_to_question5(df):\n",
    "    columns = ['age', 'bp', 'bgr', 'bu', 'sc', 'sod', 'pot', 'hemo', 'pcv', 'wbcc', 'rbcc']\n",
    "    for each in columns:\n",
    "        # printing the datatype of the columns after changing it to numeric\n",
    "        print \"Data type of the value \" + each + \" is: \" + str(pd.to_numeric(df[each], errors='coerce').dtype)\n",
    "\n",
    "\n",
    "answer_to_question5(df)"
   ]
  },
  {
   "cell_type": "markdown",
   "metadata": {},
   "source": [
    "# Question 6"
   ]
  },
  {
   "cell_type": "code",
   "execution_count": 9,
   "metadata": {
    "collapsed": false,
    "scrolled": true
   },
   "outputs": [
    {
     "name": "stdout",
     "output_type": "stream",
     "text": [
      "The Answer to Question 6 is as follows:\n",
      "Normal RBC Count is:  201\n",
      "Abnormal RBC Count is:  47\n",
      "The bar graph representing the above stats is below: \n"
     ]
    },
    {
     "data": {
      "image/png": "[encoded data removed]",
      "text/plain": [
       "<matplotlib.figure.Figure at 0x7fbbdbdbbb10>"
      ]
     },
     "metadata": {},
     "output_type": "display_data"
    }
   ],
   "source": [
    "print \"The Answer to Question 6 is as follows:\"\n",
    "import matplotlib.pyplot as plt; plt.rcdefaults()\n",
    "import matplotlib.pyplot as plt\n",
    "% matplotlib inline\n",
    "\n",
    "def answer_to_question6(df):\n",
    "    values = []\n",
    "    normal = len(df[df.rbc == 'normal'])\n",
    "    abnormal = len(df[df.rbc == 'abnormal'])\n",
    "\n",
    "    print \"Normal RBC Count is: \", normal\n",
    "    print \"Abnormal RBC Count is: \", abnormal\n",
    "    # appending the values to a list\n",
    "    values.append(int(normal))\n",
    "    values.append(int(abnormal))\n",
    "    # creating the eventual headers of the graph\n",
    "    objects = ('normal', 'abnormal')\n",
    "    y_pos = np.arange(len(objects))\n",
    "    # setting the bar width of the barplot\n",
    "    bar_width = 0.35\n",
    "    # plotting the bar graph with color\n",
    "    plt.bar(y_pos, values, bar_width, alpha=0.5, color='blue', align='center')\n",
    "    # providing the headers on the x axis\n",
    "    plt.xticks(y_pos, objects)\n",
    "    # adding teh y axis label\n",
    "    plt.ylabel('Count')\n",
    "    # adding title of the bar graph\n",
    "    plt.title('Normal vs. Abnormal RBC Count')\n",
    "    print \"The bar graph representing the above stats is below: \"\n",
    "    # displaying the graph\n",
    "    plt.show()\n",
    "\n",
    "answer_to_question6(df)\n"
   ]
  },
  {
   "cell_type": "markdown",
   "metadata": {},
   "source": [
    "# Question 7"
   ]
  },
  {
   "cell_type": "code",
   "execution_count": 10,
   "metadata": {
    "collapsed": false,
    "scrolled": true
   },
   "outputs": [
    {
     "name": "stdout",
     "output_type": "stream",
     "text": [
      "Answer to Question 7 is as follows:\n",
      "The max Bloop Pressure Having Chronic Kidney Disease is:  180.0\n"
     ]
    }
   ],
   "source": [
    "print \"Answer to Question 7 is as follows:\"\n",
    "def answer_to_question7(df):\n",
    "    # Cleaning the data as before\n",
    "    df = df.replace(r'[\\t\\s]', '', regex=True).replace(\"?\",np.nan)\n",
    "    # converting the bp column to float data type\n",
    "    df.bp = df.bp.astype(float)\n",
    "    # printing the max value of bp, if the value of the class column is equal to ckd\n",
    "    print \"The max Bloop Pressure Having Chronic Kidney Disease is: \", max(df.loc[df['class'] == 'ckd', 'bp'])\n",
    "\n",
    "answer_to_question7(df)"
   ]
  },
  {
   "cell_type": "markdown",
   "metadata": {},
   "source": [
    "# Question 8"
   ]
  },
  {
   "cell_type": "code",
   "execution_count": 12,
   "metadata": {
    "collapsed": false
   },
   "outputs": [
    {
     "name": "stdout",
     "output_type": "stream",
     "text": [
      "Answer to Question 8 is as follows:\n"
     ]
    }
   ],
   "source": [
    "print \"Answer to Question 8 is as follows:\"\n",
    "def answer_to_question8(df):\n",
    "    df = df.replace(r'[\\t\\s]', '', regex=True).replace(\"?\",np.nan)\n",
    "    df.to_csv(\"clean_chronic_kidney_disease.csv\", sep=',', index=False )\n",
    "    \n",
    "answer_to_question8(df)"
   ]
  }
 ],
 "metadata": {
  "kernelspec": {
   "display_name": "Python 2",
   "language": "python",
   "name": "python2"
  },
  "language_info": {
   "codemirror_mode": {
    "name": "ipython",
    "version": 2
   },
   "file_extension": ".py",
   "mimetype": "text/x-python",
   "name": "python",
   "nbconvert_exporter": "python",
   "pygments_lexer": "ipython2",
   "version": "2.7.12"
  },
  "widgets": {
   "state": {},
   "version": "1.1.2"
  }
 },
 "nbformat": 4,
 "nbformat_minor": 0
}
