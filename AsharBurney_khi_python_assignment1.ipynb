{
 "cells": [
  {
   "cell_type": "code",
   "execution_count": 50,
   "metadata": {
    "collapsed": false
   },
   "outputs": [
    {
     "name": "stdout",
     "output_type": "stream",
     "text": [
      "Empty DataFrame\n",
      "Columns: [age, bp, sg, al, su, rbc, pc, pcc, ba, bgr, bu, sc, sod, pot, hemo, pcv, wbcc, rbcc, htn, dm, cad, appet, pe, ane, class]\n",
      "Index: []\n",
      "\n",
      "[0 rows x 25 columns]\n"
     ]
    }
   ],
   "source": [
    "import pandas as pd\n",
    "import numpy as np\n",
    "import matplotlib.pyplot as plt\n",
    "df=pd.read_csv(\"D:/updated dataset/Updated Dataset/Dataset/chronic_kidney_disease_updated.csv\")\n",
    "print (df[:0])#ques 1\n",
    "\n"
   ]
  },
  {
   "cell_type": "code",
   "execution_count": null,
   "metadata": {
    "collapsed": true
   },
   "outputs": [],
   "source": []
  },
  {
   "cell_type": "code",
   "execution_count": 54,
   "metadata": {
    "collapsed": false
   },
   "outputs": [
    {
     "name": "stdout",
     "output_type": "stream",
     "text": [
      "   age   bp     sg   al   su     rbc        pc         pcc          ba  bgr  \\\n",
      "0  NaN  NaN    NaN  NaN  NaN     NaN       NaN         NaN         NaN  NaN   \n",
      "1   48   80  1.020    1    0     NaN    normal  notpresent  notpresent  121   \n",
      "2    7   50  1.020    4    0     NaN    normal  notpresent  notpresent  NaN   \n",
      "3   62   80  1.010    2    3  normal    normal  notpresent  notpresent  423   \n",
      "4   48   70  1.005    4    0  normal  abnormal     present  notpresent  117   \n",
      "\n",
      "   ...   pcv  wbcc rbcc  htn   dm  cad appet   pe  ane class  \n",
      "0  ...   NaN   NaN  NaN  NaN  NaN  NaN   NaN  NaN  NaN   NaN  \n",
      "1  ...    44  7800  5.2  yes  yes   no  good   no   no   ckd  \n",
      "2  ...    38  6000  NaN   no   no   no  good   no   no   ckd  \n",
      "3  ...    31  7500  NaN   no  yes   no  poor   no  yes   ckd  \n",
      "4  ...    32  6700  3.9  yes   no   no  poor  yes  yes   ckd  \n",
      "\n",
      "[5 rows x 25 columns]\n"
     ]
    }
   ],
   "source": [
    "#Ques2\n",
    "print (df[0:5])"
   ]
  },
  {
   "cell_type": "code",
   "execution_count": null,
   "metadata": {
    "collapsed": true
   },
   "outputs": [],
   "source": []
  },
  {
   "cell_type": "code",
   "execution_count": 41,
   "metadata": {
    "collapsed": false
   },
   "outputs": [
    {
     "name": "stdout",
     "output_type": "stream",
     "text": [
      "[nan 'yes' 'no']\n"
     ]
    }
   ],
   "source": [
    "#Ques3\n",
    "print (df[\"dm\"].unique())"
   ]
  },
  {
   "cell_type": "code",
   "execution_count": 52,
   "metadata": {
    "collapsed": false
   },
   "outputs": [
    {
     "data": {
      "text/plain": [
       "array([nan, 'yes', 'no'], dtype=object)"
      ]
     },
     "execution_count": 52,
     "metadata": {},
     "output_type": "execute_result"
    }
   ],
   "source": [
    "#Ques4\n",
    "def clean (df1):\n",
    "    f=lambda x: str(x).strip()\n",
    "    df1=df1.applymap(f)\n",
    "    df1=df1.replace(\"?\",np.nan)\n",
    "    df1=df1.replace(\"nan\",np.nan)\n",
    "    df1=df1.replace(\"/t?\",np.nan)\n",
    "    return df1\n",
    "df=clean(df)\n",
    "df.dm.unique()\n",
    "    "
   ]
  },
  {
   "cell_type": "code",
   "execution_count": null,
   "metadata": {
    "collapsed": true
   },
   "outputs": [],
   "source": []
  },
  {
   "cell_type": "code",
   "execution_count": 43,
   "metadata": {
    "collapsed": false
   },
   "outputs": [
    {
     "name": "stdout",
     "output_type": "stream",
     "text": [
      "      age     bp     sg   al   su       rbc        pc         pcc          ba  \\\n",
      "0     NaN    NaN    NaN  NaN  NaN       NaN       NaN         NaN         NaN   \n",
      "1    48.0   80.0  1.020    1    0       NaN    normal  notpresent  notpresent   \n",
      "2     7.0   50.0  1.020    4    0       NaN    normal  notpresent  notpresent   \n",
      "3    62.0   80.0  1.010    2    3    normal    normal  notpresent  notpresent   \n",
      "4    48.0   70.0  1.005    4    0    normal  abnormal     present  notpresent   \n",
      "5    51.0   80.0  1.010    2    0    normal    normal  notpresent  notpresent   \n",
      "6    60.0   90.0  1.015    3    0       NaN       NaN  notpresent  notpresent   \n",
      "7    68.0   70.0  1.010    0    0       NaN    normal  notpresent  notpresent   \n",
      "8    24.0    NaN  1.015    2    4    normal  abnormal  notpresent  notpresent   \n",
      "9    52.0  100.0  1.015    3    0    normal  abnormal     present  notpresent   \n",
      "10   53.0   90.0  1.020    2    0  abnormal  abnormal     present  notpresent   \n",
      "11   50.0   60.0  1.010    2    4       NaN  abnormal     present  notpresent   \n",
      "12   63.0   70.0  1.010    3    0  abnormal  abnormal     present  notpresent   \n",
      "13   68.0   70.0  1.015    3    1       NaN    normal     present  notpresent   \n",
      "14   68.0   70.0    NaN  NaN  NaN       NaN       NaN  notpresent  notpresent   \n",
      "15   68.0   80.0  1.010    3    2    normal  abnormal     present     present   \n",
      "16   40.0   80.0  1.015    3    0       NaN    normal  notpresent  notpresent   \n",
      "17   47.0   70.0  1.015    2    0       NaN    normal  notpresent  notpresent   \n",
      "18   47.0   80.0    NaN  NaN  NaN       NaN       NaN  notpresent  notpresent   \n",
      "19   60.0  100.0  1.025    0    3       NaN    normal  notpresent  notpresent   \n",
      "20   62.0   60.0  1.015    1    0       NaN  abnormal     present  notpresent   \n",
      "21   61.0   80.0  1.015    2    0  abnormal  abnormal  notpresent  notpresent   \n",
      "22   60.0   90.0    NaN  NaN  NaN       NaN       NaN  notpresent  notpresent   \n",
      "23   48.0   80.0  1.025    4    0    normal  abnormal  notpresent  notpresent   \n",
      "24   21.0   70.0  1.010    0    0       NaN    normal  notpresent  notpresent   \n",
      "25   42.0  100.0  1.015    4    0    normal  abnormal  notpresent     present   \n",
      "26   61.0   60.0  1.025    0    0       NaN    normal  notpresent  notpresent   \n",
      "27   75.0   80.0  1.015    0    0       NaN    normal  notpresent  notpresent   \n",
      "28   69.0   70.0  1.010    3    4    normal  abnormal  notpresent  notpresent   \n",
      "29   75.0   70.0    NaN    1    3       NaN       NaN  notpresent  notpresent   \n",
      "..    ...    ...    ...  ...  ...       ...       ...         ...         ...   \n",
      "371  69.0   70.0  1.020    0    0    normal    normal  notpresent  notpresent   \n",
      "372  28.0   60.0  1.025    0    0    normal    normal  notpresent  notpresent   \n",
      "373  72.0   60.0  1.020    0    0    normal    normal  notpresent  notpresent   \n",
      "374  61.0   70.0  1.025    0    0    normal    normal  notpresent  notpresent   \n",
      "375  79.0   80.0  1.025    0    0    normal    normal  notpresent  notpresent   \n",
      "376  70.0   80.0  1.020    0    0    normal    normal  notpresent  notpresent   \n",
      "377  58.0   70.0  1.025    0    0    normal    normal  notpresent  notpresent   \n",
      "378  64.0   70.0  1.020    0    0    normal    normal  notpresent  notpresent   \n",
      "379  71.0   60.0  1.025    0    0    normal    normal  notpresent  notpresent   \n",
      "380  62.0   80.0  1.025    0    0    normal    normal  notpresent  notpresent   \n",
      "381  59.0   60.0  1.020    0    0    normal    normal  notpresent  notpresent   \n",
      "382  71.0   70.0  1.025    0    0       NaN       NaN  notpresent  notpresent   \n",
      "383  48.0   80.0  1.025    0    0    normal    normal  notpresent  notpresent   \n",
      "384  80.0   80.0  1.025    0    0    normal    normal  notpresent  notpresent   \n",
      "385  57.0   60.0  1.020    0    0    normal    normal  notpresent  notpresent   \n",
      "386  63.0   70.0  1.020    0    0    normal    normal  notpresent  notpresent   \n",
      "387  46.0   70.0  1.025    0    0    normal    normal  notpresent  notpresent   \n",
      "388  15.0   80.0  1.025    0    0    normal    normal  notpresent  notpresent   \n",
      "389  51.0   80.0  1.020    0    0    normal    normal  notpresent  notpresent   \n",
      "390  41.0   80.0  1.025    0    0    normal    normal  notpresent  notpresent   \n",
      "391  52.0   80.0  1.025    0    0    normal    normal  notpresent  notpresent   \n",
      "392  36.0   80.0  1.025    0    0    normal    normal  notpresent  notpresent   \n",
      "393  57.0   80.0  1.020    0    0    normal    normal  notpresent  notpresent   \n",
      "394  43.0   60.0  1.025    0    0    normal    normal  notpresent  notpresent   \n",
      "395  50.0   80.0  1.020    0    0    normal    normal  notpresent  notpresent   \n",
      "396  55.0   80.0  1.020    0    0    normal    normal  notpresent  notpresent   \n",
      "397  42.0   70.0  1.025    0    0    normal    normal  notpresent  notpresent   \n",
      "398  12.0   80.0  1.020    0    0    normal    normal  notpresent  notpresent   \n",
      "399  17.0   60.0  1.025    0    0    normal    normal  notpresent  notpresent   \n",
      "400  58.0   80.0  1.025    0    0    normal    normal  notpresent  notpresent   \n",
      "\n",
      "       bgr   ...     pcv     wbcc  rbcc  htn   dm  cad  appet   pe  ane  \\\n",
      "0      NaN   ...     NaN      NaN   NaN  NaN  NaN  NaN    NaN  NaN  NaN   \n",
      "1    121.0   ...    44.0   7800.0   5.2  yes  yes   no   good   no   no   \n",
      "2      NaN   ...    38.0   6000.0   NaN   no   no   no   good   no   no   \n",
      "3    423.0   ...    31.0   7500.0   NaN   no  yes   no   poor   no  yes   \n",
      "4    117.0   ...    32.0   6700.0   3.9  yes   no   no   poor  yes  yes   \n",
      "5    106.0   ...    35.0   7300.0   4.6   no   no   no   good   no   no   \n",
      "6     74.0   ...    39.0   7800.0   4.4  yes  yes   no   good  yes   no   \n",
      "7    100.0   ...    36.0      NaN   NaN   no   no   no   good   no   no   \n",
      "8    410.0   ...    44.0   6900.0   5.0   no  yes   no   good  yes   no   \n",
      "9    138.0   ...    33.0   9600.0   4.0  yes  yes   no   good   no  yes   \n",
      "10    70.0   ...    29.0  12100.0   3.7  yes  yes   no   poor   no  yes   \n",
      "11   490.0   ...    28.0      NaN   NaN  yes  yes   no   good   no  yes   \n",
      "12   380.0   ...    32.0   4500.0   3.8  yes  yes   no   poor  yes   no   \n",
      "13   208.0   ...    28.0  12200.0   3.4  yes  yes  yes   poor  yes   no   \n",
      "14    98.0   ...     NaN      NaN   NaN  yes  yes  yes   poor  yes   no   \n",
      "15   157.0   ...    16.0  11000.0   2.6  yes  yes  yes   poor  yes   no   \n",
      "16    76.0   ...    24.0   3800.0   2.8  yes   no   no   good   no  yes   \n",
      "17    99.0   ...     NaN      NaN   NaN   no   no   no   good   no   no   \n",
      "18   114.0   ...     NaN      NaN   NaN  yes   no   no   poor   no   no   \n",
      "19   263.0   ...    37.0  11400.0   4.3  yes  yes  yes   good   no   no   \n",
      "20   100.0   ...    30.0   5300.0   3.7  yes   no  yes   good   no   no   \n",
      "21   173.0   ...    24.0   9200.0   3.2  yes  yes  yes   poor  yes  yes   \n",
      "22     NaN   ...    32.0   6200.0   3.6  yes  yes  yes   good   no   no   \n",
      "23    95.0   ...    32.0   6900.0   3.4  yes   no   no   good   no  yes   \n",
      "24     NaN   ...     NaN      NaN   NaN   no   no   no   poor   no  yes   \n",
      "25     NaN   ...    39.0   8300.0   4.6  yes   no   no   poor   no   no   \n",
      "26   108.0   ...    29.0   8400.0   3.7  yes  yes   no   good   no  yes   \n",
      "27   156.0   ...    35.0  10300.0   4.0  yes  yes   no   poor   no   no   \n",
      "28   264.0   ...    37.0   9600.0   4.1  yes  yes  yes   good  yes   no   \n",
      "29   123.0   ...     NaN      NaN   NaN   no  yes   no   good   no   no   \n",
      "..     ...   ...     ...      ...   ...  ...  ...  ...    ...  ...  ...   \n",
      "371   83.0   ...    50.0   9300.0   5.4   no   no   no   good   no   no   \n",
      "372   79.0   ...    51.0   6500.0   5.0   no   no   no   good   no   no   \n",
      "373  109.0   ...    52.0  10500.0   5.5   no   no   no   good   no   no   \n",
      "374  133.0   ...    47.0   9200.0   4.9   no   no   no   good   no   no   \n",
      "375  111.0   ...    40.0   8000.0   6.4   no   no   no   good   no   no   \n",
      "376   74.0   ...    48.0   9700.0   5.6   no   no   no   good   no   no   \n",
      "377   88.0   ...    53.0   9100.0   5.2   no   no   no   good   no   no   \n",
      "378   97.0   ...    49.0   6400.0   4.8   no   no   no   good   no   no   \n",
      "379    NaN   ...    42.0   7700.0   5.5   no   no   no   good   no   no   \n",
      "380   78.0   ...    50.0   5400.0   5.7   no   no   no   good   no   no   \n",
      "381  113.0   ...    54.0   6500.0   4.9   no   no   no   good   no   no   \n",
      "382   79.0   ...    40.0   5800.0   5.9   no   no   no   good   no   no   \n",
      "383   75.0   ...    51.0   6000.0   6.5   no   no   no   good   no   no   \n",
      "384  119.0   ...    49.0   5100.0   5.0   no   no   no   good   no   no   \n",
      "385  132.0   ...    42.0  11000.0   4.5   no   no   no   good   no   no   \n",
      "386  113.0   ...    52.0   8000.0   5.1   no   no   no   good   no   no   \n",
      "387  100.0   ...    43.0   5700.0   6.5   no   no   no   good   no   no   \n",
      "388   93.0   ...    50.0   6200.0   5.2   no   no   no   good   no   no   \n",
      "389   94.0   ...    46.0   9500.0   6.4   no   no   no   good   no   no   \n",
      "390  112.0   ...    52.0   7200.0   5.8   no   no   no   good   no   no   \n",
      "391   99.0   ...    52.0   6300.0   5.3   no   no   no   good   no   no   \n",
      "392   85.0   ...    44.0   5800.0   6.3   no   no   no   good   no   no   \n",
      "393  133.0   ...    46.0   6600.0   5.5   no   no   no   good   no   no   \n",
      "394  117.0   ...    54.0   7400.0   5.4   no   no   no   good   no   no   \n",
      "395  137.0   ...    45.0   9500.0   4.6   no   no   no   good   no   no   \n",
      "396  140.0   ...    47.0   6700.0   4.9   no   no   no   good   no   no   \n",
      "397   75.0   ...    54.0   7800.0   6.2   no   no   no   good   no   no   \n",
      "398  100.0   ...    49.0   6600.0   5.4   no   no   no   good   no   no   \n",
      "399  114.0   ...    51.0   7200.0   5.9   no   no   no   good   no   no   \n",
      "400  131.0   ...    53.0   6800.0   6.1   no   no   no   good   no   no   \n",
      "\n",
      "      class  \n",
      "0       NaN  \n",
      "1       ckd  \n",
      "2       ckd  \n",
      "3       ckd  \n",
      "4       ckd  \n",
      "5       ckd  \n",
      "6       ckd  \n",
      "7       ckd  \n",
      "8       ckd  \n",
      "9       ckd  \n",
      "10      ckd  \n",
      "11      ckd  \n",
      "12      ckd  \n",
      "13      ckd  \n",
      "14      ckd  \n",
      "15      ckd  \n",
      "16      ckd  \n",
      "17      ckd  \n",
      "18      ckd  \n",
      "19      ckd  \n",
      "20      ckd  \n",
      "21      ckd  \n",
      "22      ckd  \n",
      "23      ckd  \n",
      "24      ckd  \n",
      "25      ckd  \n",
      "26      ckd  \n",
      "27      ckd  \n",
      "28      ckd  \n",
      "29      ckd  \n",
      "..      ...  \n",
      "371  notckd  \n",
      "372  notckd  \n",
      "373  notckd  \n",
      "374  notckd  \n",
      "375  notckd  \n",
      "376  notckd  \n",
      "377  notckd  \n",
      "378  notckd  \n",
      "379  notckd  \n",
      "380  notckd  \n",
      "381  notckd  \n",
      "382  notckd  \n",
      "383  notckd  \n",
      "384  notckd  \n",
      "385  notckd  \n",
      "386  notckd  \n",
      "387  notckd  \n",
      "388  notckd  \n",
      "389  notckd  \n",
      "390  notckd  \n",
      "391  notckd  \n",
      "392  notckd  \n",
      "393  notckd  \n",
      "394  notckd  \n",
      "395  notckd  \n",
      "396  notckd  \n",
      "397  notckd  \n",
      "398  notckd  \n",
      "399  notckd  \n",
      "400  notckd  \n",
      "\n",
      "[401 rows x 25 columns]\n"
     ]
    }
   ],
   "source": [
    "#Ques5\n",
    "list1=['age', 'bp', 'bgr', 'bu', 'sc', 'sod', 'pot', 'hemo', 'pcv', 'wbcc', 'rbcc']\n",
    "for i in list1:\n",
    "    df[i]=df[i].astype(float)\n",
    "print (df)"
   ]
  },
  {
   "cell_type": "code",
   "execution_count": 57,
   "metadata": {
    "collapsed": false
   },
   "outputs": [
    {
     "name": "stdout",
     "output_type": "stream",
     "text": [
      "60\n",
      "47\n"
     ]
    },
    {
     "data": {
      "image/png": "[encoded data removed]",
      "text/plain": [
       "<matplotlib.figure.Figure at 0x1f299b069b0>"
      ]
     },
     "metadata": {},
     "output_type": "display_data"
    }
   ],
   "source": [
    "#Ques6\n",
    "normal=0\n",
    "abnormal=0\n",
    "for i in range(0,len(df.rbc)):\n",
    "    if df[\"class\"][i]== \"ckd\":\n",
    "        if df.rbc[i]== \"normal\":\n",
    "            normal+= 1\n",
    "        elif df.rbc[i]==\"abnormal\":\n",
    "            abnormal+=1\n",
    "print(normal)\n",
    "print(abnormal)\n",
    "df[df[\"class\"]==\"ckd\"].rbc.value_counts().plot(kind='bar')\n",
    "plt.show()"
   ]
  },
  {
   "cell_type": "code",
   "execution_count": null,
   "metadata": {
    "collapsed": true
   },
   "outputs": [],
   "source": []
  },
  {
   "cell_type": "code",
   "execution_count": null,
   "metadata": {
    "collapsed": true
   },
   "outputs": [],
   "source": []
  },
  {
   "cell_type": "code",
   "execution_count": null,
   "metadata": {
    "collapsed": true
   },
   "outputs": [],
   "source": []
  },
  {
   "cell_type": "code",
   "execution_count": null,
   "metadata": {
    "collapsed": true
   },
   "outputs": [],
   "source": []
  },
  {
   "cell_type": "code",
   "execution_count": null,
   "metadata": {
    "collapsed": true
   },
   "outputs": [],
   "source": []
  },
  {
   "cell_type": "code",
   "execution_count": null,
   "metadata": {
    "collapsed": true
   },
   "outputs": [],
   "source": []
  },
  {
   "cell_type": "code",
   "execution_count": null,
   "metadata": {
    "collapsed": true
   },
   "outputs": [],
   "source": []
  },
  {
   "cell_type": "code",
   "execution_count": null,
   "metadata": {
    "collapsed": true
   },
   "outputs": [],
   "source": []
  },
  {
   "cell_type": "code",
   "execution_count": null,
   "metadata": {
    "collapsed": true
   },
   "outputs": [],
   "source": []
  },
  {
   "cell_type": "code",
   "execution_count": 45,
   "metadata": {
    "collapsed": false
   },
   "outputs": [
    {
     "name": "stdout",
     "output_type": "stream",
     "text": [
      "180.0\n"
     ]
    }
   ],
   "source": [
    "#Ques7\n",
    "max_val=0\n",
    "for i in range(0,len(df.bp)):\n",
    "    if df[\"class\"][i]==\"ckd\":\n",
    "        if df.bp[i]> max_val:\n",
    "            max_val= df.bp[i]\n",
    "        \n",
    "print (max_val)\n"
   ]
  },
  {
   "cell_type": "code",
   "execution_count": null,
   "metadata": {
    "collapsed": true
   },
   "outputs": [],
   "source": []
  },
  {
   "cell_type": "code",
   "execution_count": 6,
   "metadata": {
    "collapsed": false
   },
   "outputs": [
    {
     "name": "stdout",
     "output_type": "stream",
     "text": [
      "[nan 'yes' 'no' ' yes' '\\tno' '\\tyes' '?']\n"
     ]
    }
   ],
   "source": []
  },
  {
   "cell_type": "code",
   "execution_count": 25,
   "metadata": {
    "collapsed": false
   },
   "outputs": [
    {
     "data": {
      "text/plain": [
       "array([nan, 'yes', 'no'], dtype=object)"
      ]
     },
     "execution_count": 25,
     "metadata": {},
     "output_type": "execute_result"
    }
   ],
   "source": []
  },
  {
   "cell_type": "code",
   "execution_count": null,
   "metadata": {
    "collapsed": true
   },
   "outputs": [],
   "source": []
  },
  {
   "cell_type": "code",
   "execution_count": null,
   "metadata": {
    "collapsed": true
   },
   "outputs": [],
   "source": []
  },
  {
   "cell_type": "code",
   "execution_count": 26,
   "metadata": {
    "collapsed": false
   },
   "outputs": [
    {
     "name": "stdout",
     "output_type": "stream",
     "text": [
      "      age     bp     sg   al   su       rbc        pc         pcc          ba  \\\n",
      "0     NaN    NaN    NaN  NaN  NaN       NaN       NaN         NaN         NaN   \n",
      "1    48.0   80.0  1.020    1    0       NaN    normal  notpresent  notpresent   \n",
      "2     7.0   50.0  1.020    4    0       NaN    normal  notpresent  notpresent   \n",
      "3    62.0   80.0  1.010    2    3    normal    normal  notpresent  notpresent   \n",
      "4    48.0   70.0  1.005    4    0    normal  abnormal     present  notpresent   \n",
      "5    51.0   80.0  1.010    2    0    normal    normal  notpresent  notpresent   \n",
      "6    60.0   90.0  1.015    3    0       NaN       NaN  notpresent  notpresent   \n",
      "7    68.0   70.0  1.010    0    0       NaN    normal  notpresent  notpresent   \n",
      "8    24.0    NaN  1.015    2    4    normal  abnormal  notpresent  notpresent   \n",
      "9    52.0  100.0  1.015    3    0    normal  abnormal     present  notpresent   \n",
      "10   53.0   90.0  1.020    2    0  abnormal  abnormal     present  notpresent   \n",
      "11   50.0   60.0  1.010    2    4       NaN  abnormal     present  notpresent   \n",
      "12   63.0   70.0  1.010    3    0  abnormal  abnormal     present  notpresent   \n",
      "13   68.0   70.0  1.015    3    1       NaN    normal     present  notpresent   \n",
      "14   68.0   70.0    NaN  NaN  NaN       NaN       NaN  notpresent  notpresent   \n",
      "15   68.0   80.0  1.010    3    2    normal  abnormal     present     present   \n",
      "16   40.0   80.0  1.015    3    0       NaN    normal  notpresent  notpresent   \n",
      "17   47.0   70.0  1.015    2    0       NaN    normal  notpresent  notpresent   \n",
      "18   47.0   80.0    NaN  NaN  NaN       NaN       NaN  notpresent  notpresent   \n",
      "19   60.0  100.0  1.025    0    3       NaN    normal  notpresent  notpresent   \n",
      "20   62.0   60.0  1.015    1    0       NaN  abnormal     present  notpresent   \n",
      "21   61.0   80.0  1.015    2    0  abnormal  abnormal  notpresent  notpresent   \n",
      "22   60.0   90.0    NaN  NaN  NaN       NaN       NaN  notpresent  notpresent   \n",
      "23   48.0   80.0  1.025    4    0    normal  abnormal  notpresent  notpresent   \n",
      "24   21.0   70.0  1.010    0    0       NaN    normal  notpresent  notpresent   \n",
      "25   42.0  100.0  1.015    4    0    normal  abnormal  notpresent     present   \n",
      "26   61.0   60.0  1.025    0    0       NaN    normal  notpresent  notpresent   \n",
      "27   75.0   80.0  1.015    0    0       NaN    normal  notpresent  notpresent   \n",
      "28   69.0   70.0  1.010    3    4    normal  abnormal  notpresent  notpresent   \n",
      "29   75.0   70.0    NaN    1    3       NaN       NaN  notpresent  notpresent   \n",
      "..    ...    ...    ...  ...  ...       ...       ...         ...         ...   \n",
      "371  69.0   70.0  1.020    0    0    normal    normal  notpresent  notpresent   \n",
      "372  28.0   60.0  1.025    0    0    normal    normal  notpresent  notpresent   \n",
      "373  72.0   60.0  1.020    0    0    normal    normal  notpresent  notpresent   \n",
      "374  61.0   70.0  1.025    0    0    normal    normal  notpresent  notpresent   \n",
      "375  79.0   80.0  1.025    0    0    normal    normal  notpresent  notpresent   \n",
      "376  70.0   80.0  1.020    0    0    normal    normal  notpresent  notpresent   \n",
      "377  58.0   70.0  1.025    0    0    normal    normal  notpresent  notpresent   \n",
      "378  64.0   70.0  1.020    0    0    normal    normal  notpresent  notpresent   \n",
      "379  71.0   60.0  1.025    0    0    normal    normal  notpresent  notpresent   \n",
      "380  62.0   80.0  1.025    0    0    normal    normal  notpresent  notpresent   \n",
      "381  59.0   60.0  1.020    0    0    normal    normal  notpresent  notpresent   \n",
      "382  71.0   70.0  1.025    0    0       NaN       NaN  notpresent  notpresent   \n",
      "383  48.0   80.0  1.025    0    0    normal    normal  notpresent  notpresent   \n",
      "384  80.0   80.0  1.025    0    0    normal    normal  notpresent  notpresent   \n",
      "385  57.0   60.0  1.020    0    0    normal    normal  notpresent  notpresent   \n",
      "386  63.0   70.0  1.020    0    0    normal    normal  notpresent  notpresent   \n",
      "387  46.0   70.0  1.025    0    0    normal    normal  notpresent  notpresent   \n",
      "388  15.0   80.0  1.025    0    0    normal    normal  notpresent  notpresent   \n",
      "389  51.0   80.0  1.020    0    0    normal    normal  notpresent  notpresent   \n",
      "390  41.0   80.0  1.025    0    0    normal    normal  notpresent  notpresent   \n",
      "391  52.0   80.0  1.025    0    0    normal    normal  notpresent  notpresent   \n",
      "392  36.0   80.0  1.025    0    0    normal    normal  notpresent  notpresent   \n",
      "393  57.0   80.0  1.020    0    0    normal    normal  notpresent  notpresent   \n",
      "394  43.0   60.0  1.025    0    0    normal    normal  notpresent  notpresent   \n",
      "395  50.0   80.0  1.020    0    0    normal    normal  notpresent  notpresent   \n",
      "396  55.0   80.0  1.020    0    0    normal    normal  notpresent  notpresent   \n",
      "397  42.0   70.0  1.025    0    0    normal    normal  notpresent  notpresent   \n",
      "398  12.0   80.0  1.020    0    0    normal    normal  notpresent  notpresent   \n",
      "399  17.0   60.0  1.025    0    0    normal    normal  notpresent  notpresent   \n",
      "400  58.0   80.0  1.025    0    0    normal    normal  notpresent  notpresent   \n",
      "\n",
      "       bgr   ...     pcv     wbcc  rbcc  htn   dm  cad  appet   pe  ane  \\\n",
      "0      NaN   ...     NaN      NaN   NaN  NaN  NaN  NaN    NaN  NaN  NaN   \n",
      "1    121.0   ...    44.0   7800.0   5.2  yes  yes   no   good   no   no   \n",
      "2      NaN   ...    38.0   6000.0   NaN   no   no   no   good   no   no   \n",
      "3    423.0   ...    31.0   7500.0   NaN   no  yes   no   poor   no  yes   \n",
      "4    117.0   ...    32.0   6700.0   3.9  yes   no   no   poor  yes  yes   \n",
      "5    106.0   ...    35.0   7300.0   4.6   no   no   no   good   no   no   \n",
      "6     74.0   ...    39.0   7800.0   4.4  yes  yes   no   good  yes   no   \n",
      "7    100.0   ...    36.0      NaN   NaN   no   no   no   good   no   no   \n",
      "8    410.0   ...    44.0   6900.0   5.0   no  yes   no   good  yes   no   \n",
      "9    138.0   ...    33.0   9600.0   4.0  yes  yes   no   good   no  yes   \n",
      "10    70.0   ...    29.0  12100.0   3.7  yes  yes   no   poor   no  yes   \n",
      "11   490.0   ...    28.0      NaN   NaN  yes  yes   no   good   no  yes   \n",
      "12   380.0   ...    32.0   4500.0   3.8  yes  yes   no   poor  yes   no   \n",
      "13   208.0   ...    28.0  12200.0   3.4  yes  yes  yes   poor  yes   no   \n",
      "14    98.0   ...     NaN      NaN   NaN  yes  yes  yes   poor  yes   no   \n",
      "15   157.0   ...    16.0  11000.0   2.6  yes  yes  yes   poor  yes   no   \n",
      "16    76.0   ...    24.0   3800.0   2.8  yes   no   no   good   no  yes   \n",
      "17    99.0   ...     NaN      NaN   NaN   no   no   no   good   no   no   \n",
      "18   114.0   ...     NaN      NaN   NaN  yes   no   no   poor   no   no   \n",
      "19   263.0   ...    37.0  11400.0   4.3  yes  yes  yes   good   no   no   \n",
      "20   100.0   ...    30.0   5300.0   3.7  yes   no  yes   good   no   no   \n",
      "21   173.0   ...    24.0   9200.0   3.2  yes  yes  yes   poor  yes  yes   \n",
      "22     NaN   ...    32.0   6200.0   3.6  yes  yes  yes   good   no   no   \n",
      "23    95.0   ...    32.0   6900.0   3.4  yes   no   no   good   no  yes   \n",
      "24     NaN   ...     NaN      NaN   NaN   no   no   no   poor   no  yes   \n",
      "25     NaN   ...    39.0   8300.0   4.6  yes   no   no   poor   no   no   \n",
      "26   108.0   ...    29.0   8400.0   3.7  yes  yes   no   good   no  yes   \n",
      "27   156.0   ...    35.0  10300.0   4.0  yes  yes   no   poor   no   no   \n",
      "28   264.0   ...    37.0   9600.0   4.1  yes  yes  yes   good  yes   no   \n",
      "29   123.0   ...     NaN      NaN   NaN   no  yes   no   good   no   no   \n",
      "..     ...   ...     ...      ...   ...  ...  ...  ...    ...  ...  ...   \n",
      "371   83.0   ...    50.0   9300.0   5.4   no   no   no   good   no   no   \n",
      "372   79.0   ...    51.0   6500.0   5.0   no   no   no   good   no   no   \n",
      "373  109.0   ...    52.0  10500.0   5.5   no   no   no   good   no   no   \n",
      "374  133.0   ...    47.0   9200.0   4.9   no   no   no   good   no   no   \n",
      "375  111.0   ...    40.0   8000.0   6.4   no   no   no   good   no   no   \n",
      "376   74.0   ...    48.0   9700.0   5.6   no   no   no   good   no   no   \n",
      "377   88.0   ...    53.0   9100.0   5.2   no   no   no   good   no   no   \n",
      "378   97.0   ...    49.0   6400.0   4.8   no   no   no   good   no   no   \n",
      "379    NaN   ...    42.0   7700.0   5.5   no   no   no   good   no   no   \n",
      "380   78.0   ...    50.0   5400.0   5.7   no   no   no   good   no   no   \n",
      "381  113.0   ...    54.0   6500.0   4.9   no   no   no   good   no   no   \n",
      "382   79.0   ...    40.0   5800.0   5.9   no   no   no   good   no   no   \n",
      "383   75.0   ...    51.0   6000.0   6.5   no   no   no   good   no   no   \n",
      "384  119.0   ...    49.0   5100.0   5.0   no   no   no   good   no   no   \n",
      "385  132.0   ...    42.0  11000.0   4.5   no   no   no   good   no   no   \n",
      "386  113.0   ...    52.0   8000.0   5.1   no   no   no   good   no   no   \n",
      "387  100.0   ...    43.0   5700.0   6.5   no   no   no   good   no   no   \n",
      "388   93.0   ...    50.0   6200.0   5.2   no   no   no   good   no   no   \n",
      "389   94.0   ...    46.0   9500.0   6.4   no   no   no   good   no   no   \n",
      "390  112.0   ...    52.0   7200.0   5.8   no   no   no   good   no   no   \n",
      "391   99.0   ...    52.0   6300.0   5.3   no   no   no   good   no   no   \n",
      "392   85.0   ...    44.0   5800.0   6.3   no   no   no   good   no   no   \n",
      "393  133.0   ...    46.0   6600.0   5.5   no   no   no   good   no   no   \n",
      "394  117.0   ...    54.0   7400.0   5.4   no   no   no   good   no   no   \n",
      "395  137.0   ...    45.0   9500.0   4.6   no   no   no   good   no   no   \n",
      "396  140.0   ...    47.0   6700.0   4.9   no   no   no   good   no   no   \n",
      "397   75.0   ...    54.0   7800.0   6.2   no   no   no   good   no   no   \n",
      "398  100.0   ...    49.0   6600.0   5.4   no   no   no   good   no   no   \n",
      "399  114.0   ...    51.0   7200.0   5.9   no   no   no   good   no   no   \n",
      "400  131.0   ...    53.0   6800.0   6.1   no   no   no   good   no   no   \n",
      "\n",
      "      class  \n",
      "0       NaN  \n",
      "1       ckd  \n",
      "2       ckd  \n",
      "3       ckd  \n",
      "4       ckd  \n",
      "5       ckd  \n",
      "6       ckd  \n",
      "7       ckd  \n",
      "8       ckd  \n",
      "9       ckd  \n",
      "10      ckd  \n",
      "11      ckd  \n",
      "12      ckd  \n",
      "13      ckd  \n",
      "14      ckd  \n",
      "15      ckd  \n",
      "16      ckd  \n",
      "17      ckd  \n",
      "18      ckd  \n",
      "19      ckd  \n",
      "20      ckd  \n",
      "21      ckd  \n",
      "22      ckd  \n",
      "23      ckd  \n",
      "24      ckd  \n",
      "25      ckd  \n",
      "26      ckd  \n",
      "27      ckd  \n",
      "28      ckd  \n",
      "29      ckd  \n",
      "..      ...  \n",
      "371  notckd  \n",
      "372  notckd  \n",
      "373  notckd  \n",
      "374  notckd  \n",
      "375  notckd  \n",
      "376  notckd  \n",
      "377  notckd  \n",
      "378  notckd  \n",
      "379  notckd  \n",
      "380  notckd  \n",
      "381  notckd  \n",
      "382  notckd  \n",
      "383  notckd  \n",
      "384  notckd  \n",
      "385  notckd  \n",
      "386  notckd  \n",
      "387  notckd  \n",
      "388  notckd  \n",
      "389  notckd  \n",
      "390  notckd  \n",
      "391  notckd  \n",
      "392  notckd  \n",
      "393  notckd  \n",
      "394  notckd  \n",
      "395  notckd  \n",
      "396  notckd  \n",
      "397  notckd  \n",
      "398  notckd  \n",
      "399  notckd  \n",
      "400  notckd  \n",
      "\n",
      "[401 rows x 25 columns]\n"
     ]
    }
   ],
   "source": []
  },
  {
   "cell_type": "code",
   "execution_count": null,
   "metadata": {
    "collapsed": true
   },
   "outputs": [],
   "source": []
  },
  {
   "cell_type": "code",
   "execution_count": 39,
   "metadata": {
    "collapsed": false
   },
   "outputs": [
    {
     "name": "stdout",
     "output_type": "stream",
     "text": [
      "180.0\n"
     ]
    }
   ],
   "source": []
  },
  {
   "cell_type": "code",
   "execution_count": 60,
   "metadata": {
    "collapsed": false
   },
   "outputs": [],
   "source": [
    "# Ques 8\n",
    "df.to_csv(\"clean_updated_ckd_dataset.csv\",sep=',', index=False)"
   ]
  },
  {
   "cell_type": "code",
   "execution_count": null,
   "metadata": {
    "collapsed": true
   },
   "outputs": [],
   "source": []
  },
  {
   "cell_type": "code",
   "execution_count": null,
   "metadata": {
    "collapsed": true
   },
   "outputs": [],
   "source": []
  },
  {
   "cell_type": "code",
   "execution_count": null,
   "metadata": {
    "collapsed": true
   },
   "outputs": [],
   "source": []
  },
  {
   "cell_type": "code",
   "execution_count": null,
   "metadata": {
    "collapsed": true
   },
   "outputs": [],
   "source": []
  },
  {
   "cell_type": "code",
   "execution_count": null,
   "metadata": {
    "collapsed": true
   },
   "outputs": [],
   "source": []
  },
  {
   "cell_type": "code",
   "execution_count": null,
   "metadata": {
    "collapsed": true
   },
   "outputs": [],
   "source": []
  },
  {
   "cell_type": "code",
   "execution_count": null,
   "metadata": {
    "collapsed": true
   },
   "outputs": [],
   "source": []
  },
  {
   "cell_type": "code",
   "execution_count": null,
   "metadata": {
    "collapsed": true
   },
   "outputs": [],
   "source": []
  },
  {
   "cell_type": "code",
   "execution_count": null,
   "metadata": {
    "collapsed": true
   },
   "outputs": [],
   "source": []
  },
  {
   "cell_type": "code",
   "execution_count": null,
   "metadata": {
    "collapsed": true
   },
   "outputs": [],
   "source": []
  },
  {
   "cell_type": "code",
   "execution_count": null,
   "metadata": {
    "collapsed": true
   },
   "outputs": [],
   "source": []
  },
  {
   "cell_type": "code",
   "execution_count": null,
   "metadata": {
    "collapsed": true
   },
   "outputs": [],
   "source": []
  },
  {
   "cell_type": "code",
   "execution_count": null,
   "metadata": {
    "collapsed": true
   },
   "outputs": [],
   "source": []
  },
  {
   "cell_type": "code",
   "execution_count": null,
   "metadata": {
    "collapsed": true
   },
   "outputs": [],
   "source": []
  },
  {
   "cell_type": "code",
   "execution_count": null,
   "metadata": {
    "collapsed": true
   },
   "outputs": [],
   "source": []
  },
  {
   "cell_type": "code",
   "execution_count": null,
   "metadata": {
    "collapsed": true
   },
   "outputs": [],
   "source": []
  },
  {
   "cell_type": "code",
   "execution_count": null,
   "metadata": {
    "collapsed": true
   },
   "outputs": [],
   "source": []
  },
  {
   "cell_type": "code",
   "execution_count": null,
   "metadata": {
    "collapsed": true
   },
   "outputs": [],
   "source": []
  },
  {
   "cell_type": "code",
   "execution_count": null,
   "metadata": {
    "collapsed": true
   },
   "outputs": [],
   "source": []
  },
  {
   "cell_type": "code",
   "execution_count": 18,
   "metadata": {
    "collapsed": false
   },
   "outputs": [
    {
     "name": "stdout",
     "output_type": "stream",
     "text": [
      "60\n",
      "47\n"
     ]
    }
   ],
   "source": []
  },
  {
   "cell_type": "code",
   "execution_count": null,
   "metadata": {
    "collapsed": true
   },
   "outputs": [],
   "source": []
  },
  {
   "cell_type": "code",
   "execution_count": null,
   "metadata": {
    "collapsed": true
   },
   "outputs": [],
   "source": []
  },
  {
   "cell_type": "code",
   "execution_count": null,
   "metadata": {
    "collapsed": true
   },
   "outputs": [],
   "source": []
  },
  {
   "cell_type": "code",
   "execution_count": null,
   "metadata": {
    "collapsed": true
   },
   "outputs": [],
   "source": []
  },
  {
   "cell_type": "code",
   "execution_count": null,
   "metadata": {
    "collapsed": true
   },
   "outputs": [],
   "source": []
  },
  {
   "cell_type": "code",
   "execution_count": null,
   "metadata": {
    "collapsed": true
   },
   "outputs": [],
   "source": []
  },
  {
   "cell_type": "code",
   "execution_count": null,
   "metadata": {
    "collapsed": true
   },
   "outputs": [],
   "source": [
    "    "
   ]
  },
  {
   "cell_type": "code",
   "execution_count": null,
   "metadata": {
    "collapsed": true
   },
   "outputs": [],
   "source": []
  },
  {
   "cell_type": "code",
   "execution_count": null,
   "metadata": {
    "collapsed": true
   },
   "outputs": [],
   "source": []
  }
 ],
 "metadata": {
  "kernelspec": {
   "display_name": "Python 3",
   "language": "python",
   "name": "python3"
  },
  "language_info": {
   "codemirror_mode": {
    "name": "ipython",
    "version": 3
   },
   "file_extension": ".py",
   "mimetype": "text/x-python",
   "name": "python",
   "nbconvert_exporter": "python",
   "pygments_lexer": "ipython3",
   "version": "3.6.0"
  }
 },
 "nbformat": 4,
 "nbformat_minor": 2
}
