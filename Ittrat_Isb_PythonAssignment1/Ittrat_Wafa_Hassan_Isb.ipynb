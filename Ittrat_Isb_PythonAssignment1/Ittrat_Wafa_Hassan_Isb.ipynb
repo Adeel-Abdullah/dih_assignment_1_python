{
 "cells": [
  {
   "cell_type": "code",
   "execution_count": 110,
   "metadata": {
    "collapsed": false
   },
   "outputs": [
    {
     "name": "stdout",
     "output_type": "stream",
     "text": [
      "Index([u'bp', u'sg', u'al', u'su', u'rbc', u'pc', u'pcc', u'ba', u'bgr', u'bu',\n",
      "       u'sc', u'sod', u'pot', u'hemo', u'pcv', u'wbcc', u'rbcc', u'htn', u'dm',\n",
      "       u'cad', u'appet', u'pe', u'ane', u'class'],\n",
      "      dtype='object')\n",
      "      bp     sg   al   su     rbc        pc         pcc          ba  bgr   bu  \\\n",
      "age                                                                             \n",
      "NaN  NaN    NaN  NaN  NaN     NaN       NaN         NaN         NaN  NaN  NaN   \n",
      "48    80  1.020    1    0       ?    normal  notpresent  notpresent  121   36   \n",
      "7     50  1.020    4    0       ?    normal  notpresent  notpresent    ?   18   \n",
      "62    80  1.010    2    3  normal    normal  notpresent  notpresent  423   53   \n",
      "48    70  1.005    4    0  normal  abnormal     present  notpresent  117   56   \n",
      "\n",
      "     ...   pcv  wbcc rbcc  htn   dm  cad appet   pe  ane class  \n",
      "age  ...                                                        \n",
      "NaN  ...   NaN   NaN  NaN  NaN  NaN  NaN   NaN  NaN  NaN   NaN  \n",
      "48   ...    44  7800  5.2  yes  yes   no  good   no   no   ckd  \n",
      "7    ...    38  6000    ?   no   no   no  good   no   no   ckd  \n",
      "62   ...    31  7500    ?   no  yes   no  poor   no  yes   ckd  \n",
      "48   ...    32  6700  3.9  yes   no   no  poor  yes  yes   ckd  \n",
      "\n",
      "[5 rows x 24 columns]\n",
      "[nan 'yes' 'no' ' yes' '\\tno' '\\tyes' '?']\n",
      "[nan 'yes' 'no']\n",
      "float64\n",
      "float64\n",
      "float64\n",
      "float64\n",
      "float64\n",
      "float64\n",
      "float64\n",
      "float64\n",
      "float64\n",
      "float64\n",
      "normal      201\n",
      "abnormal     47\n",
      "dtype: int64\n",
      "180.0\n"
     ]
    },
    {
     "data": {
      "image/png": "[encoded data removed]",
      "text/plain": [
       "<matplotlib.figure.Figure at 0x7f3f48491fd0>"
      ]
     },
     "metadata": {},
     "output_type": "display_data"
    }
   ],
   "source": [
    "import pandas as pd\n",
    "import numpy as np\n",
    "\n",
    "\n",
    "#Load the dataset to pandas dataframe and print names of columns\n",
    "ckd = pd.DataFrame.from_csv(\"/resources/data/chronic_kidney_disease_updated.csv\")                           \n",
    "print ckd.columns\n",
    "\n",
    "#Display first 5 rows in the dataset.\n",
    "print ckd[:5]\n",
    "\n",
    "\n",
    "#Check if dataset is in cleaned form else clean it. \n",
    "#Check Diabetes Mellitus(dm) variable and print what type of values it has.\n",
    "print ckd.dm.unique()\n",
    "\n",
    "\"\"\"The dataset is not in clean form. \n",
    "Write a function that takes pandas dataframe as an input and replace these characters \n",
    "i-e ( \"\\t\", \" \", \"?\") with \"nan\" the function should apply this transformation to all columns in \n",
    "dataframe and for cross check display unique values of Diabetes Mellitus(dm)\"\"\"\n",
    "\n",
    "ckd.replace( [\"\\?|\\s\", \"\\\\\\t[yes|no|0-9]*\"], [np.nan, \"\\[yes|no|0-9]\" ], inplace=True, regex=True)\n",
    "print ckd.dm.unique()\n",
    "\n",
    "#Change datatype to Numerical of following columns in Dataframe. \n",
    "#columns = ['age', 'bp', 'bgr', 'bu', 'sc', 'sod', 'pot', 'hemo', 'pcv', 'wbcc', 'rbcc']\n",
    "\n",
    "lst = ['bp', 'bgr', 'bu', 'sc', 'sod', 'pot', 'hemo', 'pcv', 'wbcc', 'rbcc']\n",
    "for i in lst:\n",
    "    ckd[i] = pd.to_numeric(ckd[i])\n",
    "    print ckd[i].dtypes\n",
    "    \n",
    "#Count the number of normal or abnormal red blood cells people having Chronic Kidney Disease(CKD).\n",
    "lst = pd.value_counts(ckd['rbc'].values, sort = False)\n",
    "print lst\n",
    "lst.plot(kind = \"bar\", title= \"Count for RBC\")\n",
    "\n",
    "\n",
    "#Display maximum blood pressure having Chronic Kidney Disease(CKD)\n",
    "#print np.nanmax(ckd.bp.values)\n",
    "print max(ckd.loc[ckd['class'] == 'ckd', 'bp'])\n",
    "\n",
    "#Create a csv file of cleaned data in dataframe with name \"clean_chronic_kidney_disease.csv\"\n",
    "ckd.to_csv(\"/resources/data/clean_chronic_kidney_disease.csv\")\n"
   ]
  },
  {
   "cell_type": "code",
   "execution_count": null,
   "metadata": {
    "collapsed": true
   },
   "outputs": [],
   "source": []
  },
  {
   "cell_type": "code",
   "execution_count": null,
   "metadata": {
    "collapsed": true
   },
   "outputs": [],
   "source": []
  }
 ],
 "metadata": {
  "kernelspec": {
   "display_name": "Python 2",
   "language": "python",
   "name": "python2"
  },
  "language_info": {
   "codemirror_mode": {
    "name": "ipython",
    "version": 2
   },
   "file_extension": ".py",
   "mimetype": "text/x-python",
   "name": "python",
   "nbconvert_exporter": "python",
   "pygments_lexer": "ipython2",
   "version": "2.7.12"
  },
  "widgets": {
   "state": {},
   "version": "1.1.2"
  }
 },
 "nbformat": 4,
 "nbformat_minor": 0
}
