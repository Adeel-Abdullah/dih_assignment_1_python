{
 "cells": [
  {
   "cell_type": "markdown",
   "metadata": {},
   "source": [
    "# Question 1. Load the dataset to pandas dataframe and print names of columns\n"
   ]
  },
  {
   "cell_type": "code",
   "execution_count": 2,
   "metadata": {
    "collapsed": false
   },
   "outputs": [
    {
     "name": "stdout",
     "output_type": "stream",
     "text": [
      "['age', 'bp', 'sg', 'al', 'su', 'rbc', 'pc', 'pcc', 'ba', 'bgr', 'bu', 'sc', 'sod', 'pot', 'hemo', 'pcv', 'wbcc', 'rbcc', 'htn', 'dm', 'cad', 'appet', 'pe', 'ane', 'class']\n"
     ]
    }
   ],
   "source": [
    "%matplotlib inline\n",
    "import pandas as pd\n",
    "import numpy as num\n",
    "import matplotlib as mat\n",
    "data= pd.read_csv(\"/resources/data/chronic_kidney_disease_updated.csv\")\n",
    "print list(data)"
   ]
  },
  {
   "cell_type": "markdown",
   "metadata": {},
   "source": [
    "# Question 2. Display first 5 rows in the dataset.\n"
   ]
  },
  {
   "cell_type": "code",
   "execution_count": 4,
   "metadata": {
    "collapsed": false
   },
   "outputs": [
    {
     "name": "stdout",
     "output_type": "stream",
     "text": [
      "   age   bp     sg   al   su     rbc        pc         pcc          ba  bgr  \\\n",
      "0  NaN  NaN    NaN  NaN  NaN     NaN       NaN         NaN         NaN  NaN   \n",
      "1   48   80  1.020    1    0       ?    normal  notpresent  notpresent  121   \n",
      "2    7   50  1.020    4    0       ?    normal  notpresent  notpresent    ?   \n",
      "3   62   80  1.010    2    3  normal    normal  notpresent  notpresent  423   \n",
      "4   48   70  1.005    4    0  normal  abnormal     present  notpresent  117   \n",
      "\n",
      "   ...   pcv  wbcc rbcc  htn   dm  cad appet   pe  ane class  \n",
      "0  ...   NaN   NaN  NaN  NaN  NaN  NaN   NaN  NaN  NaN   NaN  \n",
      "1  ...    44  7800  5.2  yes  yes   no  good   no   no   ckd  \n",
      "2  ...    38  6000    ?   no   no   no  good   no   no   ckd  \n",
      "3  ...    31  7500    ?   no  yes   no  poor   no  yes   ckd  \n",
      "4  ...    32  6700  3.9  yes   no   no  poor  yes  yes   ckd  \n",
      "\n",
      "[5 rows x 25 columns]\n"
     ]
    }
   ],
   "source": [
    "print data[0:5]"
   ]
  },
  {
   "cell_type": "markdown",
   "metadata": {},
   "source": [
    "# Question 3. Check if dataset is in cleaned form else clean it. Check Diabetes Mellitus(dm) variable and print what type of values it has."
   ]
  },
  {
   "cell_type": "code",
   "execution_count": 7,
   "metadata": {
    "collapsed": false
   },
   "outputs": [
    {
     "name": "stdout",
     "output_type": "stream",
     "text": [
      "0      NaN\n",
      "1      yes\n",
      "2       no\n",
      "3      yes\n",
      "4       no\n",
      "5       no\n",
      "6      yes\n",
      "7       no\n",
      "8      yes\n",
      "9      yes\n",
      "10     yes\n",
      "11     yes\n",
      "12     yes\n",
      "13     yes\n",
      "14     yes\n",
      "15     yes\n",
      "16      no\n",
      "17      no\n",
      "18      no\n",
      "19     yes\n",
      "20      no\n",
      "21     yes\n",
      "22     yes\n",
      "23      no\n",
      "24      no\n",
      "25      no\n",
      "26     yes\n",
      "27     yes\n",
      "28     yes\n",
      "29     yes\n",
      "      ... \n",
      "371     no\n",
      "372     no\n",
      "373     no\n",
      "374     no\n",
      "375     no\n",
      "376     no\n",
      "377     no\n",
      "378     no\n",
      "379     no\n",
      "380     no\n",
      "381     no\n",
      "382     no\n",
      "383     no\n",
      "384     no\n",
      "385     no\n",
      "386     no\n",
      "387     no\n",
      "388     no\n",
      "389     no\n",
      "390     no\n",
      "391     no\n",
      "392     no\n",
      "393     no\n",
      "394     no\n",
      "395     no\n",
      "396     no\n",
      "397     no\n",
      "398     no\n",
      "399     no\n",
      "400     no\n",
      "Name: dm, dtype: object\n",
      "[nan 'yes' 'no' ' yes' '\\tno' '\\tyes' '?']\n"
     ]
    }
   ],
   "source": [
    "print data.dm\n",
    "print data.dm.unique()"
   ]
  },
  {
   "cell_type": "markdown",
   "metadata": {},
   "source": [
    "# Question 4. The dataset is not in clean form. Write a function that takes pandas dataframe as an input and replace these characters i-e ( \"\\t\", \" \", \"?\") with \"nan\" the function should apply this transformation to all columns in dataframe and for cross check display unique values of Diabetes Mellitus(dm)."
   ]
  },
  {
   "cell_type": "code",
   "execution_count": 9,
   "metadata": {
    "collapsed": false
   },
   "outputs": [
    {
     "name": "stdout",
     "output_type": "stream",
     "text": [
      "[nan 'yes' 'no']\n"
     ]
    }
   ],
   "source": [
    "import pandas as pd\n",
    "import numpy as np\n",
    "import matplotlib as mat\n",
    "data= pd.read_csv(\"/resources/data/chronic_kidney_disease_updated.csv\")\n",
    "def replacevalue(item):\n",
    "    for i in data:\n",
    "        data[i]= data[i].replace(\"?\", np.nan)\n",
    "        data[i]= data[i].replace(\"\", np.nan)\n",
    "        data[i]= data[i].replace(\"\\t\", np.nan)\n",
    "        data[i]= data[i].replace(\" yes\", \"yes\")\n",
    "        data[i]= data[i].replace(\" no\", \"no\")\n",
    "        data[i]= data[i].replace(\"\\tyes\", \"yes\")\n",
    "        data[i]= data[i].replace(\"\\tno\", \"no\")\n",
    "        \n",
    "replacevalue(\"?\")\n",
    "replacevalue(\"\")\n",
    "replacevalue(\"\\t\")\n",
    "replacevalue(\" yes\")\n",
    "replacevalue(\" no\")\n",
    "replacevalue(\"\\tyes\")\n",
    "replacevalue(\"\\tno\")\n",
    "print data.dm.unique()"
   ]
  },
  {
   "cell_type": "markdown",
   "metadata": {},
   "source": [
    "# Question 5. Change datatype to Numerical of following columns in Dataframe. columns = ['age', 'bp', 'bgr', 'bu', 'sc', 'sod', 'pot', 'hemo', 'pcv', 'wbcc', 'rbcc']"
   ]
  },
  {
   "cell_type": "code",
   "execution_count": 11,
   "metadata": {
    "collapsed": false
   },
   "outputs": [
    {
     "name": "stdout",
     "output_type": "stream",
     "text": [
      "age      float64\n",
      "bp       float64\n",
      "sg        object\n",
      "al        object\n",
      "su        object\n",
      "rbc       object\n",
      "pc        object\n",
      "pcc       object\n",
      "ba        object\n",
      "bgr      float64\n",
      "bu       float64\n",
      "sc       float64\n",
      "sod      float64\n",
      "pot      float64\n",
      "hemo     float64\n",
      "pcv      float64\n",
      "wbcc     float64\n",
      "rbcc     float64\n",
      "htn       object\n",
      "dm        object\n",
      "cad       object\n",
      "appet     object\n",
      "pe        object\n",
      "ane       object\n",
      "class     object\n",
      "dtype: object\n"
     ]
    }
   ],
   "source": [
    "import pandas as pd\n",
    "col= ['age', 'bp', 'bgr', 'bu', 'sc', 'sod', 'pot', 'hemo', 'pcv', 'wbcc', 'rbcc']\n",
    "for c in col:\n",
    "    data[c] = pd.to_numeric(data[c], errors=\"coerce\")\n",
    "print data.dtypes"
   ]
  },
  {
   "cell_type": "markdown",
   "metadata": {},
   "source": [
    "# Question 6. Count the number of normal or abnormal red blood cells people having Chronic Kidney Disease(CKD)."
   ]
  },
  {
   "cell_type": "code",
   "execution_count": 13,
   "metadata": {
    "collapsed": false
   },
   "outputs": [
    {
     "name": "stdout",
     "output_type": "stream",
     "text": [
      "Axes(0.125,0.125;0.775x0.775)\n"
     ]
    },
    {
     "data": {
      "image/png": "[encoded data removed]",
      "text/plain": [
       "<matplotlib.figure.Figure at 0x7fa2a4039210>"
      ]
     },
     "metadata": {},
     "output_type": "display_data"
    }
   ],
   "source": [
    "print data.groupby('rbc').rbc.count().plot(kind=\"bar\")"
   ]
  },
  {
   "cell_type": "markdown",
   "metadata": {},
   "source": [
    "# Question 7. Display maximum blood pressure having Chronic Kidney Disease(CKD)."
   ]
  },
  {
   "cell_type": "code",
   "execution_count": 15,
   "metadata": {
    "collapsed": false
   },
   "outputs": [
    {
     "name": "stdout",
     "output_type": "stream",
     "text": [
      "class\n",
      "ckd       180.0\n",
      "ckd\\t      80.0\n",
      "notckd     80.0\n",
      "Name: bp, dtype: float64\n"
     ]
    }
   ],
   "source": [
    "print data.groupby('class').bp.max()"
   ]
  },
  {
   "cell_type": "markdown",
   "metadata": {},
   "source": [
    "# Question 8. Create a csv file of cleaned data in dataframe with name \"clean_chronic_kidney_disease.csv\""
   ]
  },
  {
   "cell_type": "code",
   "execution_count": 17,
   "metadata": {
    "collapsed": true
   },
   "outputs": [],
   "source": [
    "data.to_csv('clean_chronic_kidney_disease.csv', sep=',')"
   ]
  }
 ],
 "metadata": {
  "kernelspec": {
   "display_name": "Python 2",
   "language": "python",
   "name": "python2"
  },
  "language_info": {
   "codemirror_mode": {
    "name": "ipython",
    "version": 2
   },
   "file_extension": ".py",
   "mimetype": "text/x-python",
   "name": "python",
   "nbconvert_exporter": "python",
   "pygments_lexer": "ipython2",
   "version": "2.7.12"
  },
  "widgets": {
   "state": {},
   "version": "1.1.2"
  }
 },
 "nbformat": 4,
 "nbformat_minor": 0
}
