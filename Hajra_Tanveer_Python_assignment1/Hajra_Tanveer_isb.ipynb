{
 "cells": [
  {
   "cell_type": "code",
   "execution_count": null,
   "metadata": {
    "collapsed": true
   },
   "outputs": [],
   "source": [
    "/resources/data/chronic_kidney_disease_updated.csv"
   ]
  },
  {
   "cell_type": "code",
   "execution_count": 1,
   "metadata": {
    "collapsed": false
   },
   "outputs": [
    {
     "name": "stdout",
     "output_type": "stream",
     "text": [
      "['bp', 'sg', 'al', 'su', 'rbc', 'pc', 'pcc', 'ba', 'bgr', 'bu', 'sc', 'sod', 'pot', 'hemo', 'pcv', 'wbcc', 'rbcc', 'htn', 'dm', 'cad', 'appet', 'pe', 'ane', 'class']\n",
      "      bp     sg   al   su     rbc        pc         pcc          ba  bgr   bu  \\\n",
      "age                                                                             \n",
      "NaN  NaN    NaN  NaN  NaN     NaN       NaN         NaN         NaN  NaN  NaN   \n",
      "48    80  1.020    1    0       ?    normal  notpresent  notpresent  121   36   \n",
      "7     50  1.020    4    0       ?    normal  notpresent  notpresent    ?   18   \n",
      "62    80  1.010    2    3  normal    normal  notpresent  notpresent  423   53   \n",
      "48    70  1.005    4    0  normal  abnormal     present  notpresent  117   56   \n",
      "\n",
      "     ...   pcv  wbcc rbcc  htn   dm  cad appet   pe  ane class  \n",
      "age  ...                                                        \n",
      "NaN  ...   NaN   NaN  NaN  NaN  NaN  NaN   NaN  NaN  NaN   NaN  \n",
      "48   ...    44  7800  5.2  yes  yes   no  good   no   no   ckd  \n",
      "7    ...    38  6000    ?   no   no   no  good   no   no   ckd  \n",
      "62   ...    31  7500    ?   no  yes   no  poor   no  yes   ckd  \n",
      "48   ...    32  6700  3.9  yes   no   no  poor  yes  yes   ckd  \n",
      "\n",
      "[5 rows x 24 columns]\n",
      "[nan 'yes' 'no' ' yes' '\\tno' '\\tyes' '?']\n",
      "[nan 'yes' 'no']\n",
      "normal      201\n",
      "abnormal     47\n",
      "dtype: int64\n",
      "180.0\n"
     ]
    },
    {
     "data": {
      "image/png": "[encoded data removed]",
      "text/plain": [
       "<matplotlib.figure.Figure at 0x7f56b24df610>"
      ]
     },
     "metadata": {},
     "output_type": "display_data"
    }
   ],
   "source": [
    "import pandas\n",
    "import numpy as np\n",
    "import re\n",
    "import matplotlib as plt\n",
    "% matplotlib inline\n",
    "\n",
    "#Part 1\n",
    "my_data = pandas.DataFrame.from_csv(\"/resources/data/chronic_kidney_disease_updated.csv\")\n",
    "#print my_data\n",
    "columns = list(my_data.columns)\n",
    "print columns\n",
    "\n",
    "#Part 2. Display first 5 rows in the dataset\n",
    "first_five_rows = [range(0,5)]\n",
    "\n",
    "#map(lambda x: my_data.ix[x],first_five_rows)\n",
    "print my_data[:5]\n",
    "\n",
    "#3. Check if dataset is in cleaned form else clean it. Check Diabetes Mellitus(dm)\n",
    "#variable and print what type of values it has.\n",
    "#my_data.columns(\"Diabetes Mellitus\")\n",
    "\n",
    "my_data['dm'] #prints Diabetes Mellitus column\n",
    "print my_data.dm.unique()\n",
    "\n",
    "#4. The dataset is not in clean form. Write a function that takes pandas dataframe\n",
    "#as an input and replace these characters i-e ( \"\\t\", \" \", \"?\") with \"nan\" \n",
    "#the function should apply this transformation to all columns \n",
    "#in dataframe and for cross check display unique values of Diabetes Mellitus(dm).\n",
    "\n",
    "\n",
    "#my_data.replace(to_replace=\"\\t([0-9,\\.]+).*\", value=r\"\\1\", regex=True, inplace=True)\n",
    "\n",
    "#my_data.replace([\"\\tno\",\" \",\"?\",\"\\tyes\",\" yes\",\"\\t?\"],[\"no\",np.nan,np.nan,\"yes\",\"yes\",np.nan],inplace=True)\n",
    "my_data.replace([ \"\\?|\\s\",\"\\\\\\t[0-9|yes|no]*\"],[np.nan,r\"[0-9|yes|no]\"],regex =True,inplace = True)\n",
    "\n",
    "print my_data.dm.unique()\n",
    "\n",
    "#5. Change datatype to Numerical of following columns in Dataframe. \n",
    "#columns = ['age', 'bp', 'bgr', 'bu', 'sc', 'sod', 'pot', 'hemo', 'pcv', 'wbcc', 'rbcc']\n",
    "columns_to_numerics = ['bp', 'bgr', 'bu', 'sc', 'sod', 'pot', 'hemo', 'pcv', 'rbcc', 'wbcc']\n",
    "\n",
    "#pandas.to_numeric(my_data['wbcc'])\n",
    "#my_data['wbcc']\n",
    "#my_data.wbcc.unique()\n",
    "for i in columns_to_numerics:\n",
    "    my_data[i] = pandas.to_numeric(my_data[i]) # print to confirm data type \n",
    "    #my_data[i] = my_data[i].astype(np.float32) #make sure reassign so that changs ar permanent\n",
    "#print type(my_data['hemo'])\n",
    "#print type(my_data['sod'])\n",
    "\n",
    "#6. Count the number of normal or abnormal red blood cells people having Chronic Kidney Disease(CKD)\n",
    "#output: Count, preferred output is bar graph using matplotlib package.\n",
    "\n",
    "normal_abnormal_count = pandas.value_counts(my_data['rbc'].values, sort=False)\n",
    "print normal_abnormal_count\n",
    "normal_abnormal_count.plot(kind='bar')\n",
    "\n",
    "#7. Display maximum blood pressure having Chronic Kidney Disease(CKD).\n",
    "#output: Number.\n",
    "\n",
    "\n",
    "print max(my_data.loc[my_data['class']=='ckd','bp']) #so that it doesnt count nan as a vlaue\n",
    "\n",
    "#8. Create a csv file of cleaned data in dataframe with name \"clean_chronic_kidney_disease.csv\"\n",
    "#output: csv file\n",
    "\n",
    "my_data.to_csv(\"/resources/data/cleaned_chronic_kidney_disease_updated.csv\")\n",
    "\n",
    "\n",
    "\n",
    "\n",
    "\n",
    "\n",
    "\n",
    "\n",
    "\n",
    "\n"
   ]
  },
  {
   "cell_type": "code",
   "execution_count": null,
   "metadata": {
    "collapsed": true
   },
   "outputs": [],
   "source": []
  }
 ],
 "metadata": {
  "kernelspec": {
   "display_name": "Python 2",
   "language": "python",
   "name": "python2"
  },
  "language_info": {
   "codemirror_mode": {
    "name": "ipython",
    "version": 2
   },
   "file_extension": ".py",
   "mimetype": "text/x-python",
   "name": "python",
   "nbconvert_exporter": "python",
   "pygments_lexer": "ipython2",
   "version": "2.7.12"
  },
  "widgets": {
   "state": {},
   "version": "1.1.2"
  }
 },
 "nbformat": 4,
 "nbformat_minor": 0
}
